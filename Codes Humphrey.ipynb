{
 "cells": [
  {
   "cell_type": "markdown",
   "metadata": {},
   "source": [
    "## Codes by Humphrey"
   ]
  },
  {
   "cell_type": "code",
   "execution_count": 65,
   "metadata": {},
   "outputs": [
    {
     "ename": "ERROR",
     "evalue": "Error in library(foreign): there is no package called 'foreign'\n",
     "output_type": "error",
     "traceback": [
      "Error in library(foreign): there is no package called 'foreign'\nTraceback:\n",
      "1. library(foreign)"
     ]
    }
   ],
   "source": [
    "library(foreign) ; library(tsModel) ; library(lmtest) ; library(Epi)\n",
    "library(splines) ; library(grid); library(vcd)\n",
    "library (dplyr) ; library (xtable)\n",
    "library(sandwich) ; library(lmtest)\n",
    "install.packages(\"foreign\")\n",
    "install.packages(\"Synth\")\n",
    "install.packages(\"dplyr\")\n",
    "install.packages(\"gridExtra\")\n",
    "install.packages(\"tidyverse\") \n",
    "install.packages(\"lubridate\")\n",
    "install.packages(\"tree\")\n",
    "install.packages(\"Matching\")\n",
    "install.packages(\"boot\")\n",
    "install.packages(\"randomForest\")\n",
    "install.packages(\"arm\")\n",
    "install.packages(\"ggplot2\")\n",
    "install.packages(\"cobalt\")\n",
    "library(cobalt)\n",
    "library(sm)\n",
    "library(tidyverse) # for data manipulation and visualization\n",
    "library(lubridate)\n",
    "library(tree)\n",
    "library(Matching)\n",
    "library(boot)\n",
    "library(randomForest)\n",
    "library(arm)\n",
    "library(ggplot2)\n",
    "library(cobalt)\n",
    "library(foreign) \n",
    "library(splines)\n",
    "library(grid)\n",
    "library (dplyr)\n",
    "library (xtable)\n",
    "library(lmtest)\n",
    "library(Synth)\n",
    "library(gridextra)\n",
    "\n",
    "\n",
    "alldata<- read.csv(\"C:\\\\Users\\\\jacob\\\\Downloads\\\\Personal\\\\2001_Table1ALL.csv\")\n",
    "alldata$Rate <- alldata$Deaths/alldata$StdPop"
   ]
  },
  {
   "cell_type": "code",
   "execution_count": 8,
   "metadata": {},
   "outputs": [
    {
     "data": {
      "text/html": [
       "<table>\n",
       "<thead><tr><th scope=col>MonYear</th><th scope=col>Year</th><th scope=col>MonthNo</th><th scope=col>Deaths</th><th scope=col>Treatment</th><th scope=col>Effective</th><th scope=col>Pop</th><th scope=col>StdPop</th><th scope=col>Time</th><th scope=col>Trend</th><th scope=col>OrigData</th><th scope=col>Cause</th><th scope=col>Data.Table</th><th scope=col>Characteristic</th></tr></thead>\n",
       "<tbody>\n",
       "\t<tr><td>Jan., 1999</td><td>1999      </td><td>1         </td><td>49        </td><td>1         </td><td>0         </td><td>15759421  </td><td>157.5942  </td><td>1         </td><td>0         </td><td>1         </td><td>Combo     </td><td>Table1    </td><td>All       </td></tr>\n",
       "\t<tr><td>Feb., 1999</td><td>1999      </td><td>2         </td><td>41        </td><td>1         </td><td>0         </td><td>15759421  </td><td>157.5942  </td><td>2         </td><td>0         </td><td>1         </td><td>Combo     </td><td>Table1    </td><td>All       </td></tr>\n",
       "\t<tr><td>Mar., 1999</td><td>1999      </td><td>3         </td><td>50        </td><td>1         </td><td>0         </td><td>15759421  </td><td>157.5942  </td><td>3         </td><td>0         </td><td>1         </td><td>Combo     </td><td>Table1    </td><td>All       </td></tr>\n",
       "\t<tr><td>Apr., 1999</td><td>1999      </td><td>4         </td><td>42        </td><td>1         </td><td>0         </td><td>15759421  </td><td>157.5942  </td><td>4         </td><td>0         </td><td>1         </td><td>Combo     </td><td>Table1    </td><td>All       </td></tr>\n",
       "\t<tr><td>May, 1999 </td><td>1999      </td><td>5         </td><td>46        </td><td>1         </td><td>0         </td><td>15759421  </td><td>157.5942  </td><td>5         </td><td>0         </td><td>1         </td><td>Combo     </td><td>Table1    </td><td>All       </td></tr>\n",
       "\t<tr><td>Jun., 1999</td><td>1999      </td><td>6         </td><td>49        </td><td>1         </td><td>0         </td><td>15759421  </td><td>157.5942  </td><td>6         </td><td>0         </td><td>1         </td><td>Combo     </td><td>Table1    </td><td>All       </td></tr>\n",
       "</tbody>\n",
       "</table>\n"
      ],
      "text/latex": [
       "\\begin{tabular}{r|llllllllllllll}\n",
       " MonYear & Year & MonthNo & Deaths & Treatment & Effective & Pop & StdPop & Time & Trend & OrigData & Cause & Data.Table & Characteristic\\\\\n",
       "\\hline\n",
       "\t Jan., 1999 & 1999       & 1          & 49         & 1          & 0          & 15759421   & 157.5942   & 1          & 0          & 1          & Combo      & Table1     & All       \\\\\n",
       "\t Feb., 1999 & 1999       & 2          & 41         & 1          & 0          & 15759421   & 157.5942   & 2          & 0          & 1          & Combo      & Table1     & All       \\\\\n",
       "\t Mar., 1999 & 1999       & 3          & 50         & 1          & 0          & 15759421   & 157.5942   & 3          & 0          & 1          & Combo      & Table1     & All       \\\\\n",
       "\t Apr., 1999 & 1999       & 4          & 42         & 1          & 0          & 15759421   & 157.5942   & 4          & 0          & 1          & Combo      & Table1     & All       \\\\\n",
       "\t May, 1999  & 1999       & 5          & 46         & 1          & 0          & 15759421   & 157.5942   & 5          & 0          & 1          & Combo      & Table1     & All       \\\\\n",
       "\t Jun., 1999 & 1999       & 6          & 49         & 1          & 0          & 15759421   & 157.5942   & 6          & 0          & 1          & Combo      & Table1     & All       \\\\\n",
       "\\end{tabular}\n"
      ],
      "text/markdown": [
       "\n",
       "| MonYear | Year | MonthNo | Deaths | Treatment | Effective | Pop | StdPop | Time | Trend | OrigData | Cause | Data.Table | Characteristic |\n",
       "|---|---|---|---|---|---|---|---|---|---|---|---|---|---|\n",
       "| Jan., 1999 | 1999       | 1          | 49         | 1          | 0          | 15759421   | 157.5942   | 1          | 0          | 1          | Combo      | Table1     | All        |\n",
       "| Feb., 1999 | 1999       | 2          | 41         | 1          | 0          | 15759421   | 157.5942   | 2          | 0          | 1          | Combo      | Table1     | All        |\n",
       "| Mar., 1999 | 1999       | 3          | 50         | 1          | 0          | 15759421   | 157.5942   | 3          | 0          | 1          | Combo      | Table1     | All        |\n",
       "| Apr., 1999 | 1999       | 4          | 42         | 1          | 0          | 15759421   | 157.5942   | 4          | 0          | 1          | Combo      | Table1     | All        |\n",
       "| May, 1999  | 1999       | 5          | 46         | 1          | 0          | 15759421   | 157.5942   | 5          | 0          | 1          | Combo      | Table1     | All        |\n",
       "| Jun., 1999 | 1999       | 6          | 49         | 1          | 0          | 15759421   | 157.5942   | 6          | 0          | 1          | Combo      | Table1     | All        |\n",
       "\n"
      ],
      "text/plain": [
       "  MonYear    Year MonthNo Deaths Treatment Effective Pop      StdPop   Time\n",
       "1 Jan., 1999 1999 1       49     1         0         15759421 157.5942 1   \n",
       "2 Feb., 1999 1999 2       41     1         0         15759421 157.5942 2   \n",
       "3 Mar., 1999 1999 3       50     1         0         15759421 157.5942 3   \n",
       "4 Apr., 1999 1999 4       42     1         0         15759421 157.5942 4   \n",
       "5 May, 1999  1999 5       46     1         0         15759421 157.5942 5   \n",
       "6 Jun., 1999 1999 6       49     1         0         15759421 157.5942 6   \n",
       "  Trend OrigData Cause Data.Table Characteristic\n",
       "1 0     1        Combo Table1     All           \n",
       "2 0     1        Combo Table1     All           \n",
       "3 0     1        Combo Table1     All           \n",
       "4 0     1        Combo Table1     All           \n",
       "5 0     1        Combo Table1     All           \n",
       "6 0     1        Combo Table1     All           "
      ]
     },
     "metadata": {},
     "output_type": "display_data"
    },
    {
     "data": {
      "text/html": [
       "<table>\n",
       "<thead><tr><th scope=col>State</th><th scope=col>MonYear</th><th scope=col>Year</th><th scope=col>MonthNo</th><th scope=col>Characteristic</th><th scope=col>Deaths</th><th scope=col>Cause</th><th scope=col>Treatment</th><th scope=col>Population</th></tr></thead>\n",
       "<tbody>\n",
       "\t<tr><td>FL              </td><td>Jan., 1999      </td><td>1999            </td><td>1               </td><td>20-34           </td><td>24              </td><td>Firearm Homicide</td><td>1               </td><td>2958306         </td></tr>\n",
       "\t<tr><td>FL              </td><td>Feb., 1999      </td><td>1999            </td><td>2               </td><td>20-34           </td><td>20              </td><td>Firearm Homicide</td><td>1               </td><td>2958306         </td></tr>\n",
       "\t<tr><td>FL              </td><td>Mar., 1999      </td><td>1999            </td><td>3               </td><td>20-34           </td><td>24              </td><td>Firearm Homicide</td><td>1               </td><td>2958306         </td></tr>\n",
       "\t<tr><td>FL              </td><td>Apr., 1999      </td><td>1999            </td><td>4               </td><td>20-34           </td><td>23              </td><td>Firearm Homicide</td><td>1               </td><td>2958306         </td></tr>\n",
       "\t<tr><td>FL              </td><td>May, 1999       </td><td>1999            </td><td>5               </td><td>20-34           </td><td>24              </td><td>Firearm Homicide</td><td>1               </td><td>2958306         </td></tr>\n",
       "\t<tr><td>FL              </td><td>Jun., 1999      </td><td>1999            </td><td>6               </td><td>20-34           </td><td>28              </td><td>Firearm Homicide</td><td>1               </td><td>2958306         </td></tr>\n",
       "</tbody>\n",
       "</table>\n"
      ],
      "text/latex": [
       "\\begin{tabular}{r|lllllllll}\n",
       " State & MonYear & Year & MonthNo & Characteristic & Deaths & Cause & Treatment & Population\\\\\n",
       "\\hline\n",
       "\t FL               & Jan., 1999       & 1999             & 1                & 20-34            & 24               & Firearm Homicide & 1                & 2958306         \\\\\n",
       "\t FL               & Feb., 1999       & 1999             & 2                & 20-34            & 20               & Firearm Homicide & 1                & 2958306         \\\\\n",
       "\t FL               & Mar., 1999       & 1999             & 3                & 20-34            & 24               & Firearm Homicide & 1                & 2958306         \\\\\n",
       "\t FL               & Apr., 1999       & 1999             & 4                & 20-34            & 23               & Firearm Homicide & 1                & 2958306         \\\\\n",
       "\t FL               & May, 1999        & 1999             & 5                & 20-34            & 24               & Firearm Homicide & 1                & 2958306         \\\\\n",
       "\t FL               & Jun., 1999       & 1999             & 6                & 20-34            & 28               & Firearm Homicide & 1                & 2958306         \\\\\n",
       "\\end{tabular}\n"
      ],
      "text/markdown": [
       "\n",
       "| State | MonYear | Year | MonthNo | Characteristic | Deaths | Cause | Treatment | Population |\n",
       "|---|---|---|---|---|---|---|---|---|\n",
       "| FL               | Jan., 1999       | 1999             | 1                | 20-34            | 24               | Firearm Homicide | 1                | 2958306          |\n",
       "| FL               | Feb., 1999       | 1999             | 2                | 20-34            | 20               | Firearm Homicide | 1                | 2958306          |\n",
       "| FL               | Mar., 1999       | 1999             | 3                | 20-34            | 24               | Firearm Homicide | 1                | 2958306          |\n",
       "| FL               | Apr., 1999       | 1999             | 4                | 20-34            | 23               | Firearm Homicide | 1                | 2958306          |\n",
       "| FL               | May, 1999        | 1999             | 5                | 20-34            | 24               | Firearm Homicide | 1                | 2958306          |\n",
       "| FL               | Jun., 1999       | 1999             | 6                | 20-34            | 28               | Firearm Homicide | 1                | 2958306          |\n",
       "\n"
      ],
      "text/plain": [
       "  State MonYear    Year MonthNo Characteristic Deaths Cause           \n",
       "1 FL    Jan., 1999 1999 1       20-34          24     Firearm Homicide\n",
       "2 FL    Feb., 1999 1999 2       20-34          20     Firearm Homicide\n",
       "3 FL    Mar., 1999 1999 3       20-34          24     Firearm Homicide\n",
       "4 FL    Apr., 1999 1999 4       20-34          23     Firearm Homicide\n",
       "5 FL    May, 1999  1999 5       20-34          24     Firearm Homicide\n",
       "6 FL    Jun., 1999 1999 6       20-34          28     Firearm Homicide\n",
       "  Treatment Population\n",
       "1 1         2958306   \n",
       "2 1         2958306   \n",
       "3 1         2958306   \n",
       "4 1         2958306   \n",
       "5 1         2958306   \n",
       "6 1         2958306   "
      ]
     },
     "metadata": {},
     "output_type": "display_data"
    },
    {
     "data": {
      "text/html": [
       "<table>\n",
       "<thead><tr><th scope=col>State</th><th scope=col>MonYear</th><th scope=col>Year</th><th scope=col>MonthNo</th><th scope=col>Characteristic</th><th scope=col>Deaths</th><th scope=col>Cause</th><th scope=col>Treatment</th><th scope=col>Population</th></tr></thead>\n",
       "<tbody>\n",
       "\t<tr><td>FL         </td><td>Jan., 1999 </td><td>1999       </td><td>1          </td><td>35 and over</td><td>15         </td><td>All Firearm</td><td>1          </td><td>8867116    </td></tr>\n",
       "\t<tr><td>FL         </td><td>Feb., 1999 </td><td>1999       </td><td>2          </td><td>35 and over</td><td>15         </td><td>All Firearm</td><td>1          </td><td>8867116    </td></tr>\n",
       "\t<tr><td>FL         </td><td>Mar., 1999 </td><td>1999       </td><td>3          </td><td>35 and over</td><td>20         </td><td>All Firearm</td><td>1          </td><td>8867116    </td></tr>\n",
       "\t<tr><td>FL         </td><td>Apr., 1999 </td><td>1999       </td><td>4          </td><td>35 and over</td><td>13         </td><td>All Firearm</td><td>1          </td><td>8867116    </td></tr>\n",
       "\t<tr><td>FL         </td><td>May, 1999  </td><td>1999       </td><td>5          </td><td>35 and over</td><td>17         </td><td>All Firearm</td><td>1          </td><td>8867116    </td></tr>\n",
       "\t<tr><td>FL         </td><td>Jun., 1999 </td><td>1999       </td><td>6          </td><td>35 and over</td><td>11         </td><td>All Firearm</td><td>1          </td><td>8867116    </td></tr>\n",
       "</tbody>\n",
       "</table>\n"
      ],
      "text/latex": [
       "\\begin{tabular}{r|lllllllll}\n",
       " State & MonYear & Year & MonthNo & Characteristic & Deaths & Cause & Treatment & Population\\\\\n",
       "\\hline\n",
       "\t FL          & Jan., 1999  & 1999        & 1           & 35 and over & 15          & All Firearm & 1           & 8867116    \\\\\n",
       "\t FL          & Feb., 1999  & 1999        & 2           & 35 and over & 15          & All Firearm & 1           & 8867116    \\\\\n",
       "\t FL          & Mar., 1999  & 1999        & 3           & 35 and over & 20          & All Firearm & 1           & 8867116    \\\\\n",
       "\t FL          & Apr., 1999  & 1999        & 4           & 35 and over & 13          & All Firearm & 1           & 8867116    \\\\\n",
       "\t FL          & May, 1999   & 1999        & 5           & 35 and over & 17          & All Firearm & 1           & 8867116    \\\\\n",
       "\t FL          & Jun., 1999  & 1999        & 6           & 35 and over & 11          & All Firearm & 1           & 8867116    \\\\\n",
       "\\end{tabular}\n"
      ],
      "text/markdown": [
       "\n",
       "| State | MonYear | Year | MonthNo | Characteristic | Deaths | Cause | Treatment | Population |\n",
       "|---|---|---|---|---|---|---|---|---|\n",
       "| FL          | Jan., 1999  | 1999        | 1           | 35 and over | 15          | All Firearm | 1           | 8867116     |\n",
       "| FL          | Feb., 1999  | 1999        | 2           | 35 and over | 15          | All Firearm | 1           | 8867116     |\n",
       "| FL          | Mar., 1999  | 1999        | 3           | 35 and over | 20          | All Firearm | 1           | 8867116     |\n",
       "| FL          | Apr., 1999  | 1999        | 4           | 35 and over | 13          | All Firearm | 1           | 8867116     |\n",
       "| FL          | May, 1999   | 1999        | 5           | 35 and over | 17          | All Firearm | 1           | 8867116     |\n",
       "| FL          | Jun., 1999  | 1999        | 6           | 35 and over | 11          | All Firearm | 1           | 8867116     |\n",
       "\n"
      ],
      "text/plain": [
       "  State MonYear    Year MonthNo Characteristic Deaths Cause       Treatment\n",
       "1 FL    Jan., 1999 1999 1       35 and over    15     All Firearm 1        \n",
       "2 FL    Feb., 1999 1999 2       35 and over    15     All Firearm 1        \n",
       "3 FL    Mar., 1999 1999 3       35 and over    20     All Firearm 1        \n",
       "4 FL    Apr., 1999 1999 4       35 and over    13     All Firearm 1        \n",
       "5 FL    May, 1999  1999 5       35 and over    17     All Firearm 1        \n",
       "6 FL    Jun., 1999 1999 6       35 and over    11     All Firearm 1        \n",
       "  Population\n",
       "1 8867116   \n",
       "2 8867116   \n",
       "3 8867116   \n",
       "4 8867116   \n",
       "5 8867116   \n",
       "6 8867116   "
      ]
     },
     "metadata": {},
     "output_type": "display_data"
    },
    {
     "data": {
      "text/html": [
       "<table>\n",
       "<thead><tr><th></th><th scope=col>State</th><th scope=col>MonYear</th><th scope=col>Year</th><th scope=col>MonthNo</th><th scope=col>Characteristic</th><th scope=col>Deaths</th><th scope=col>Cause</th><th scope=col>Treatment</th><th scope=col>Population</th></tr></thead>\n",
       "<tbody>\n",
       "\t<tr><th scope=row>8851</th><td>FL               </td><td>Jul., 2016       </td><td>2016             </td><td> 7               </td><td>Hispanic Any Race</td><td>14               </td><td>All Firearm      </td><td>1                </td><td>5126975          </td></tr>\n",
       "\t<tr><th scope=row>8852</th><td>FL               </td><td>Aug., 2016       </td><td>2016             </td><td> 8               </td><td>Hispanic Any Race</td><td>12               </td><td>All Firearm      </td><td>1                </td><td>5126975          </td></tr>\n",
       "\t<tr><th scope=row>8853</th><td>FL               </td><td>Sep., 2016       </td><td>2016             </td><td> 9               </td><td>Hispanic Any Race</td><td>11               </td><td>All Firearm      </td><td>1                </td><td>5126975          </td></tr>\n",
       "\t<tr><th scope=row>8854</th><td>FL               </td><td>Oct., 2016       </td><td>2016             </td><td>10               </td><td>Hispanic Any Race</td><td>15               </td><td>All Firearm      </td><td>1                </td><td>5126975          </td></tr>\n",
       "\t<tr><th scope=row>8855</th><td>FL               </td><td>Nov., 2016       </td><td>2016             </td><td>11               </td><td>Hispanic Any Race</td><td>13               </td><td>All Firearm      </td><td>1                </td><td>5126975          </td></tr>\n",
       "\t<tr><th scope=row>8856</th><td>FL               </td><td>Dec., 2016       </td><td>2016             </td><td>12               </td><td>Hispanic Any Race</td><td>15               </td><td>All Firearm      </td><td>1                </td><td>5126975          </td></tr>\n",
       "</tbody>\n",
       "</table>\n"
      ],
      "text/latex": [
       "\\begin{tabular}{r|lllllllll}\n",
       "  & State & MonYear & Year & MonthNo & Characteristic & Deaths & Cause & Treatment & Population\\\\\n",
       "\\hline\n",
       "\t8851 & FL                & Jul., 2016        & 2016              &  7                & Hispanic Any Race & 14                & All Firearm       & 1                 & 5126975          \\\\\n",
       "\t8852 & FL                & Aug., 2016        & 2016              &  8                & Hispanic Any Race & 12                & All Firearm       & 1                 & 5126975          \\\\\n",
       "\t8853 & FL                & Sep., 2016        & 2016              &  9                & Hispanic Any Race & 11                & All Firearm       & 1                 & 5126975          \\\\\n",
       "\t8854 & FL                & Oct., 2016        & 2016              & 10                & Hispanic Any Race & 15                & All Firearm       & 1                 & 5126975          \\\\\n",
       "\t8855 & FL                & Nov., 2016        & 2016              & 11                & Hispanic Any Race & 13                & All Firearm       & 1                 & 5126975          \\\\\n",
       "\t8856 & FL                & Dec., 2016        & 2016              & 12                & Hispanic Any Race & 15                & All Firearm       & 1                 & 5126975          \\\\\n",
       "\\end{tabular}\n"
      ],
      "text/markdown": [
       "\n",
       "| <!--/--> | State | MonYear | Year | MonthNo | Characteristic | Deaths | Cause | Treatment | Population |\n",
       "|---|---|---|---|---|---|---|---|---|---|\n",
       "| 8851 | FL                | Jul., 2016        | 2016              |  7                | Hispanic Any Race | 14                | All Firearm       | 1                 | 5126975           |\n",
       "| 8852 | FL                | Aug., 2016        | 2016              |  8                | Hispanic Any Race | 12                | All Firearm       | 1                 | 5126975           |\n",
       "| 8853 | FL                | Sep., 2016        | 2016              |  9                | Hispanic Any Race | 11                | All Firearm       | 1                 | 5126975           |\n",
       "| 8854 | FL                | Oct., 2016        | 2016              | 10                | Hispanic Any Race | 15                | All Firearm       | 1                 | 5126975           |\n",
       "| 8855 | FL                | Nov., 2016        | 2016              | 11                | Hispanic Any Race | 13                | All Firearm       | 1                 | 5126975           |\n",
       "| 8856 | FL                | Dec., 2016        | 2016              | 12                | Hispanic Any Race | 15                | All Firearm       | 1                 | 5126975           |\n",
       "\n"
      ],
      "text/plain": [
       "     State MonYear    Year MonthNo Characteristic    Deaths Cause      \n",
       "8851 FL    Jul., 2016 2016  7      Hispanic Any Race 14     All Firearm\n",
       "8852 FL    Aug., 2016 2016  8      Hispanic Any Race 12     All Firearm\n",
       "8853 FL    Sep., 2016 2016  9      Hispanic Any Race 11     All Firearm\n",
       "8854 FL    Oct., 2016 2016 10      Hispanic Any Race 15     All Firearm\n",
       "8855 FL    Nov., 2016 2016 11      Hispanic Any Race 13     All Firearm\n",
       "8856 FL    Dec., 2016 2016 12      Hispanic Any Race 15     All Firearm\n",
       "     Treatment Population\n",
       "8851 1         5126975   \n",
       "8852 1         5126975   \n",
       "8853 1         5126975   \n",
       "8854 1         5126975   \n",
       "8855 1         5126975   \n",
       "8856 1         5126975   "
      ]
     },
     "metadata": {},
     "output_type": "display_data"
    },
    {
     "data": {
      "text/html": [
       "<table>\n",
       "<thead><tr><th></th><th scope=col>State</th><th scope=col>MonYear</th><th scope=col>Year</th><th scope=col>MonthNo</th><th scope=col>Characteristic</th><th scope=col>Deaths</th><th scope=col>Cause</th><th scope=col>Treatment</th><th scope=col>Population</th></tr></thead>\n",
       "<tbody>\n",
       "\t<tr><th scope=row>9067</th><td>FL        </td><td>Jul., 2016</td><td>2016      </td><td> 7        </td><td>White     </td><td>270       </td><td>Suicide   </td><td>1         </td><td>15996473  </td></tr>\n",
       "\t<tr><th scope=row>9068</th><td>FL        </td><td>Aug., 2016</td><td>2016      </td><td> 8        </td><td>White     </td><td>254       </td><td>Suicide   </td><td>1         </td><td>15996473  </td></tr>\n",
       "\t<tr><th scope=row>9069</th><td>FL        </td><td>Sep., 2016</td><td>2016      </td><td> 9        </td><td>White     </td><td>245       </td><td>Suicide   </td><td>1         </td><td>15996473  </td></tr>\n",
       "\t<tr><th scope=row>9070</th><td>FL        </td><td>Oct., 2016</td><td>2016      </td><td>10        </td><td>White     </td><td>247       </td><td>Suicide   </td><td>1         </td><td>15996473  </td></tr>\n",
       "\t<tr><th scope=row>9071</th><td>FL        </td><td>Nov., 2016</td><td>2016      </td><td>11        </td><td>White     </td><td>250       </td><td>Suicide   </td><td>1         </td><td>15996473  </td></tr>\n",
       "\t<tr><th scope=row>9072</th><td>FL        </td><td>Dec., 2016</td><td>2016      </td><td>12        </td><td>White     </td><td>229       </td><td>Suicide   </td><td>1         </td><td>15996473  </td></tr>\n",
       "</tbody>\n",
       "</table>\n"
      ],
      "text/latex": [
       "\\begin{tabular}{r|lllllllll}\n",
       "  & State & MonYear & Year & MonthNo & Characteristic & Deaths & Cause & Treatment & Population\\\\\n",
       "\\hline\n",
       "\t9067 & FL         & Jul., 2016 & 2016       &  7         & White      & 270        & Suicide    & 1          & 15996473  \\\\\n",
       "\t9068 & FL         & Aug., 2016 & 2016       &  8         & White      & 254        & Suicide    & 1          & 15996473  \\\\\n",
       "\t9069 & FL         & Sep., 2016 & 2016       &  9         & White      & 245        & Suicide    & 1          & 15996473  \\\\\n",
       "\t9070 & FL         & Oct., 2016 & 2016       & 10         & White      & 247        & Suicide    & 1          & 15996473  \\\\\n",
       "\t9071 & FL         & Nov., 2016 & 2016       & 11         & White      & 250        & Suicide    & 1          & 15996473  \\\\\n",
       "\t9072 & FL         & Dec., 2016 & 2016       & 12         & White      & 229        & Suicide    & 1          & 15996473  \\\\\n",
       "\\end{tabular}\n"
      ],
      "text/markdown": [
       "\n",
       "| <!--/--> | State | MonYear | Year | MonthNo | Characteristic | Deaths | Cause | Treatment | Population |\n",
       "|---|---|---|---|---|---|---|---|---|---|\n",
       "| 9067 | FL         | Jul., 2016 | 2016       |  7         | White      | 270        | Suicide    | 1          | 15996473   |\n",
       "| 9068 | FL         | Aug., 2016 | 2016       |  8         | White      | 254        | Suicide    | 1          | 15996473   |\n",
       "| 9069 | FL         | Sep., 2016 | 2016       |  9         | White      | 245        | Suicide    | 1          | 15996473   |\n",
       "| 9070 | FL         | Oct., 2016 | 2016       | 10         | White      | 247        | Suicide    | 1          | 15996473   |\n",
       "| 9071 | FL         | Nov., 2016 | 2016       | 11         | White      | 250        | Suicide    | 1          | 15996473   |\n",
       "| 9072 | FL         | Dec., 2016 | 2016       | 12         | White      | 229        | Suicide    | 1          | 15996473   |\n",
       "\n"
      ],
      "text/plain": [
       "     State MonYear    Year MonthNo Characteristic Deaths Cause   Treatment\n",
       "9067 FL    Jul., 2016 2016  7      White          270    Suicide 1        \n",
       "9068 FL    Aug., 2016 2016  8      White          254    Suicide 1        \n",
       "9069 FL    Sep., 2016 2016  9      White          245    Suicide 1        \n",
       "9070 FL    Oct., 2016 2016 10      White          247    Suicide 1        \n",
       "9071 FL    Nov., 2016 2016 11      White          250    Suicide 1        \n",
       "9072 FL    Dec., 2016 2016 12      White          229    Suicide 1        \n",
       "     Population\n",
       "9067 15996473  \n",
       "9068 15996473  \n",
       "9069 15996473  \n",
       "9070 15996473  \n",
       "9071 15996473  \n",
       "9072 15996473  "
      ]
     },
     "metadata": {},
     "output_type": "display_data"
    }
   ],
   "source": [
    "alldata <- read.csv(\"C:\\\\Users\\\\jacob\\\\Downloads\\\\Personal\\\\2001_Table1ALL.csv\")\n",
    "replicationdata <- read.csv(\"C:\\\\Users\\\\jacob\\\\Downloads\\\\Personal\\\\Table 2 Replication Data.csv\")\n",
    "extensiondata <- read.csv(\"C:\\\\Users\\\\jacob\\\\Downloads\\\\Personal\\\\Table 2 Extension Data.csv\")\n",
    "homicide<- read.csv(\"https://raw.githubusercontent.com/thetruejacob/Final-Project/master/data/homicide_suicide%20(outcome)/cdc_homicide_all.csv\")\n",
    "firearms <- read.csv(\"https://raw.githubusercontent.com/thetruejacob/Final-Project/master/data/matching-data.csv\")\n",
    "#which(is.na(alldata)) # The which() function returns the positions with missing values in your vector\n",
    "#which(is.na(replicationdata)) # The which() function returns the positions with missing values in your vector\n",
    "#which(is.na(extensiondata)) # The which() function returns the positions with missing values in your vector\n",
    "alldata1 <- na.omit(alldata)\n",
    "replicationdata1 <- na.omit(replicationdata)\n",
    "extensiondata1 <- na.omit(extensiondata)\n",
    "head(alldata1)\n",
    "head(replicationdata1)\n",
    "head(extensiondata1)\n",
    "tail(replicationdata1)\n",
    "tail(extensiondata1)"
   ]
  },
  {
   "cell_type": "code",
   "execution_count": 9,
   "metadata": {},
   "outputs": [
    {
     "data": {
      "text/html": [
       "81.9259259259259"
      ],
      "text/latex": [
       "81.9259259259259"
      ],
      "text/markdown": [
       "81.9259259259259"
      ],
      "text/plain": [
       "[1] 81.92593"
      ]
     },
     "metadata": {},
     "output_type": "display_data"
    },
    {
     "data": {
      "text/html": [
       "99.2252252252252"
      ],
      "text/latex": [
       "99.2252252252252"
      ],
      "text/markdown": [
       "99.2252252252252"
      ],
      "text/plain": [
       "[1] 99.22523"
      ]
     },
     "metadata": {},
     "output_type": "display_data"
    },
    {
     "data": {
      "text/html": [
       "189.4125"
      ],
      "text/latex": [
       "189.4125"
      ],
      "text/markdown": [
       "189.4125"
      ],
      "text/plain": [
       "[1] 189.4125"
      ]
     },
     "metadata": {},
     "output_type": "display_data"
    },
    {
     "data": {
      "text/html": [
       "182.738738738739"
      ],
      "text/latex": [
       "182.738738738739"
      ],
      "text/markdown": [
       "182.738738738739"
      ],
      "text/plain": [
       "[1] 182.7387"
      ]
     },
     "metadata": {},
     "output_type": "display_data"
    },
    {
     "name": "stderr",
     "output_type": "stream",
     "text": [
      "Warning message in mean.default(FloridaHomOrig$Rate[FloridaHomOrig$Effective == :\n",
      "\"argument is not numeric or logical: returning NA\""
     ]
    },
    {
     "data": {
      "text/html": [
       "&lt;NA&gt;"
      ],
      "text/latex": [
       "<NA>"
      ],
      "text/markdown": [
       "&lt;NA&gt;"
      ],
      "text/plain": [
       "[1] NA"
      ]
     },
     "metadata": {},
     "output_type": "display_data"
    },
    {
     "name": "stderr",
     "output_type": "stream",
     "text": [
      "Warning message in mean.default(FloridaHomOrig$Rate[FloridaHomOrig$Effective == :\n",
      "\"argument is not numeric or logical: returning NA\""
     ]
    },
    {
     "data": {
      "text/html": [
       "&lt;NA&gt;"
      ],
      "text/latex": [
       "<NA>"
      ],
      "text/markdown": [
       "&lt;NA&gt;"
      ],
      "text/plain": [
       "[1] NA"
      ]
     },
     "metadata": {},
     "output_type": "display_data"
    },
    {
     "name": "stderr",
     "output_type": "stream",
     "text": [
      "Warning message in mean.default(ControlHomOrig$Rate[ControlHomOrig$Effective == :\n",
      "\"argument is not numeric or logical: returning NA\""
     ]
    },
    {
     "data": {
      "text/html": [
       "&lt;NA&gt;"
      ],
      "text/latex": [
       "<NA>"
      ],
      "text/markdown": [
       "&lt;NA&gt;"
      ],
      "text/plain": [
       "[1] NA"
      ]
     },
     "metadata": {},
     "output_type": "display_data"
    },
    {
     "name": "stderr",
     "output_type": "stream",
     "text": [
      "Warning message in mean.default(ControlHomOrig$Rate[ControlHomOrig$Effective == :\n",
      "\"argument is not numeric or logical: returning NA\""
     ]
    },
    {
     "data": {
      "text/html": [
       "&lt;NA&gt;"
      ],
      "text/latex": [
       "<NA>"
      ],
      "text/markdown": [
       "&lt;NA&gt;"
      ],
      "text/plain": [
       "[1] NA"
      ]
     },
     "metadata": {},
     "output_type": "display_data"
    }
   ],
   "source": [
    "### HOMICIDES ###\n",
    "\n",
    "# Subset Data\n",
    "allhom <-subset(alldata, Cause==\"AllHomicide\")\n",
    "FloridaHomOrig <- subset(allhom, Treatment ==1 & OrigData ==1)\n",
    "ControlHomOrig <- subset(allhom, Treatment ==0 & OrigData ==1)\n",
    "\n",
    "# Mean Monthly Counts - Original\n",
    "mean(FloridaHomOrig$Deaths[FloridaHomOrig$Effective==0]) ##Florida before\n",
    "mean(FloridaHomOrig$Deaths[FloridaHomOrig$Effective==1]) ##Florida after\n",
    "mean(ControlHomOrig$Deaths[ControlHomOrig$Effective==0]) ##Control States before\n",
    "mean(ControlHomOrig$Deaths[ControlHomOrig$Effective==1]) ##Control States after\n",
    "\n",
    "# Mean Rate Counts \n",
    "mean(FloridaHomOrig$Rate[FloridaHomOrig$Effective==0]) #Florida Before\n",
    "mean(FloridaHomOrig$Rate[FloridaHomOrig$Effective==1]) #Florida After\n",
    "mean(ControlHomOrig$Rate[ControlHomOrig$Effective==0]) ##Control States before\n",
    "mean(ControlHomOrig$Rate[ControlHomOrig$Effective==1]) ##Control States after"
   ]
  },
  {
   "cell_type": "code",
   "execution_count": 10,
   "metadata": {},
   "outputs": [
    {
     "data": {
      "text/html": [
       "49.0617283950617"
      ],
      "text/latex": [
       "49.0617283950617"
      ],
      "text/markdown": [
       "49.0617283950617"
      ],
      "text/plain": [
       "[1] 49.06173"
      ]
     },
     "metadata": {},
     "output_type": "display_data"
    },
    {
     "data": {
      "text/html": [
       "69.2972972972973"
      ],
      "text/latex": [
       "69.2972972972973"
      ],
      "text/markdown": [
       "69.2972972972973"
      ],
      "text/plain": [
       "[1] 69.2973"
      ]
     },
     "metadata": {},
     "output_type": "display_data"
    },
    {
     "data": {
      "text/html": [
       "116.333333333333"
      ],
      "text/latex": [
       "116.333333333333"
      ],
      "text/markdown": [
       "116.333333333333"
      ],
      "text/plain": [
       "[1] 116.3333"
      ]
     },
     "metadata": {},
     "output_type": "display_data"
    },
    {
     "data": {
      "text/html": [
       "119.135135135135"
      ],
      "text/latex": [
       "119.135135135135"
      ],
      "text/markdown": [
       "119.135135135135"
      ],
      "text/plain": [
       "[1] 119.1351"
      ]
     },
     "metadata": {},
     "output_type": "display_data"
    },
    {
     "name": "stderr",
     "output_type": "stream",
     "text": [
      "Warning message in mean.default(FFireHomOrig$Rate[FFireHomOrig$Effective == 0]):\n",
      "\"argument is not numeric or logical: returning NA\""
     ]
    },
    {
     "data": {
      "text/html": [
       "&lt;NA&gt;"
      ],
      "text/latex": [
       "<NA>"
      ],
      "text/markdown": [
       "&lt;NA&gt;"
      ],
      "text/plain": [
       "[1] NA"
      ]
     },
     "metadata": {},
     "output_type": "display_data"
    },
    {
     "name": "stderr",
     "output_type": "stream",
     "text": [
      "Warning message in mean.default(FFireHomOrig$Rate[FFireHomOrig$Effective == 1]):\n",
      "\"argument is not numeric or logical: returning NA\""
     ]
    },
    {
     "data": {
      "text/html": [
       "&lt;NA&gt;"
      ],
      "text/latex": [
       "<NA>"
      ],
      "text/markdown": [
       "&lt;NA&gt;"
      ],
      "text/plain": [
       "[1] NA"
      ]
     },
     "metadata": {},
     "output_type": "display_data"
    },
    {
     "name": "stderr",
     "output_type": "stream",
     "text": [
      "Warning message in mean.default(CSFireHomOrig$Rate[CSFireHomOrig$Effective == 0]):\n",
      "\"argument is not numeric or logical: returning NA\""
     ]
    },
    {
     "data": {
      "text/html": [
       "&lt;NA&gt;"
      ],
      "text/latex": [
       "<NA>"
      ],
      "text/markdown": [
       "&lt;NA&gt;"
      ],
      "text/plain": [
       "[1] NA"
      ]
     },
     "metadata": {},
     "output_type": "display_data"
    },
    {
     "name": "stderr",
     "output_type": "stream",
     "text": [
      "Warning message in mean.default(CSFireHomOrig$Rate[CSFireHomOrig$Effective == 1]):\n",
      "\"argument is not numeric or logical: returning NA\""
     ]
    },
    {
     "data": {
      "text/html": [
       "&lt;NA&gt;"
      ],
      "text/latex": [
       "<NA>"
      ],
      "text/markdown": [
       "&lt;NA&gt;"
      ],
      "text/plain": [
       "[1] NA"
      ]
     },
     "metadata": {},
     "output_type": "display_data"
    }
   ],
   "source": [
    "\n",
    "# Subset Data\n",
    "firehom <- subset(alldata, Cause==\"FirearmHomicide\")\n",
    "FFireHomOrig <- subset(firehom, Treatment ==1 & OrigData ==1)\n",
    "CSFireHomOrig <- subset(firehom, Treatment ==0 & OrigData ==1)\n",
    "\n",
    "# Mean Monthly Counts\n",
    "mean(FFireHomOrig$Deaths[FFireHomOrig$Effective==0]) ##Florida before\n",
    "mean(FFireHomOrig$Deaths[FFireHomOrig$Effective==1]) ##Florida after\n",
    "mean(CSFireHomOrig$Deaths[CSFireHomOrig$Effective==0]) ##Control States before\n",
    "mean(CSFireHomOrig$Deaths[CSFireHomOrig$Effective==1]) ##Control States after\n",
    "\n",
    "# Mean Rate Counts\n",
    "mean(FFireHomOrig$Rate[FFireHomOrig$Effective==0]) #Florida Before\n",
    "mean(FFireHomOrig$Rate[FFireHomOrig$Effective==1]) # Florida After\n",
    "mean(CSFireHomOrig$Rate[CSFireHomOrig$Effective==0]) ##Control States before\n",
    "mean(CSFireHomOrig$Rate[CSFireHomOrig$Effective==1]) ##Control States after"
   ]
  },
  {
   "cell_type": "code",
   "execution_count": 11,
   "metadata": {},
   "outputs": [
    {
     "data": {
      "text/html": [
       "188.259259259259"
      ],
      "text/latex": [
       "188.259259259259"
      ],
      "text/markdown": [
       "188.259259259259"
      ],
      "text/plain": [
       "[1] 188.2593"
      ]
     },
     "metadata": {},
     "output_type": "display_data"
    },
    {
     "data": {
      "text/html": [
       "232.522522522523"
      ],
      "text/latex": [
       "232.522522522523"
      ],
      "text/markdown": [
       "232.522522522523"
      ],
      "text/plain": [
       "[1] 232.5225"
      ]
     },
     "metadata": {},
     "output_type": "display_data"
    },
    {
     "data": {
      "text/html": [
       "314.185185185185"
      ],
      "text/latex": [
       "314.185185185185"
      ],
      "text/markdown": [
       "314.185185185185"
      ],
      "text/plain": [
       "[1] 314.1852"
      ]
     },
     "metadata": {},
     "output_type": "display_data"
    },
    {
     "data": {
      "text/html": [
       "382.207207207207"
      ],
      "text/latex": [
       "382.207207207207"
      ],
      "text/markdown": [
       "382.207207207207"
      ],
      "text/plain": [
       "[1] 382.2072"
      ]
     },
     "metadata": {},
     "output_type": "display_data"
    },
    {
     "name": "stderr",
     "output_type": "stream",
     "text": [
      "Warning message in mean.default(Florida.SuiOrig$Rate[Florida.SuiOrig$Effective == :\n",
      "\"argument is not numeric or logical: returning NA\""
     ]
    },
    {
     "data": {
      "text/html": [
       "&lt;NA&gt;"
      ],
      "text/latex": [
       "<NA>"
      ],
      "text/markdown": [
       "&lt;NA&gt;"
      ],
      "text/plain": [
       "[1] NA"
      ]
     },
     "metadata": {},
     "output_type": "display_data"
    },
    {
     "name": "stderr",
     "output_type": "stream",
     "text": [
      "Warning message in mean.default(Florida.SuiOrig$Rate[Florida.SuiOrig$Effective == :\n",
      "\"argument is not numeric or logical: returning NA\""
     ]
    },
    {
     "data": {
      "text/html": [
       "&lt;NA&gt;"
      ],
      "text/latex": [
       "<NA>"
      ],
      "text/markdown": [
       "&lt;NA&gt;"
      ],
      "text/plain": [
       "[1] NA"
      ]
     },
     "metadata": {},
     "output_type": "display_data"
    },
    {
     "name": "stderr",
     "output_type": "stream",
     "text": [
      "Warning message in mean.default(CS.SuiOrig$Rate[CS.SuiOrig$Effective == 0]):\n",
      "\"argument is not numeric or logical: returning NA\""
     ]
    },
    {
     "data": {
      "text/html": [
       "&lt;NA&gt;"
      ],
      "text/latex": [
       "<NA>"
      ],
      "text/markdown": [
       "&lt;NA&gt;"
      ],
      "text/plain": [
       "[1] NA"
      ]
     },
     "metadata": {},
     "output_type": "display_data"
    },
    {
     "name": "stderr",
     "output_type": "stream",
     "text": [
      "Warning message in mean.default(CS.SuiOrig$Rate[CS.SuiOrig$Effective == 1]):\n",
      "\"argument is not numeric or logical: returning NA\""
     ]
    },
    {
     "data": {
      "text/html": [
       "&lt;NA&gt;"
      ],
      "text/latex": [
       "<NA>"
      ],
      "text/markdown": [
       "&lt;NA&gt;"
      ],
      "text/plain": [
       "[1] NA"
      ]
     },
     "metadata": {},
     "output_type": "display_data"
    }
   ],
   "source": [
    "\n",
    "### SUICIDES ###\n",
    "\n",
    "# Subset Data\n",
    "allsuicides <- subset(alldata, Cause==\"Suicide\")\n",
    "Florida.SuiOrig <- subset(allsuicides, Treatment ==1 & OrigData ==1)\n",
    "CS.SuiOrig <- subset(allsuicides, Treatment ==0 & OrigData ==1)\n",
    "\n",
    "# Mean Monthly Counts - All Suicide\n",
    "mean(Florida.SuiOrig$Deaths[Florida.SuiOrig$Effective==0]) ##Florida before\n",
    "mean(Florida.SuiOrig$Deaths[Florida.SuiOrig$Effective==1]) ##Florida after\n",
    "mean(CS.SuiOrig$Deaths[CS.SuiOrig$Effective==0]) ##Control States before\n",
    "mean(CS.SuiOrig$Deaths[CS.SuiOrig$Effective==1]) ##Control States after\n",
    "\n",
    "# Mean Rate Counts - All Suicide\n",
    "mean(Florida.SuiOrig$Rate[Florida.SuiOrig$Effective==0]) #Florida Before\n",
    "mean(Florida.SuiOrig$Rate[Florida.SuiOrig$Effective==1]) # Florida After\n",
    "mean(CS.SuiOrig$Rate[CS.SuiOrig$Effective==0]) ##Control States before\n",
    "mean(CS.SuiOrig$Rate[CS.SuiOrig$Effective==1]) ##Control States after"
   ]
  },
  {
   "cell_type": "code",
   "execution_count": 12,
   "metadata": {},
   "outputs": [
    {
     "data": {
      "text/html": [
       "99.320987654321"
      ],
      "text/latex": [
       "99.320987654321"
      ],
      "text/markdown": [
       "99.320987654321"
      ],
      "text/plain": [
       "[1] 99.32099"
      ]
     },
     "metadata": {},
     "output_type": "display_data"
    },
    {
     "data": {
      "text/html": [
       "119.45045045045"
      ],
      "text/latex": [
       "119.45045045045"
      ],
      "text/markdown": [
       "119.45045045045"
      ],
      "text/plain": [
       "[1] 119.4505"
      ]
     },
     "metadata": {},
     "output_type": "display_data"
    },
    {
     "data": {
      "text/html": [
       "129.308641975309"
      ],
      "text/latex": [
       "129.308641975309"
      ],
      "text/markdown": [
       "129.308641975309"
      ],
      "text/plain": [
       "[1] 129.3086"
      ]
     },
     "metadata": {},
     "output_type": "display_data"
    },
    {
     "data": {
      "text/html": [
       "143.189189189189"
      ],
      "text/latex": [
       "143.189189189189"
      ],
      "text/markdown": [
       "143.189189189189"
      ],
      "text/plain": [
       "[1] 143.1892"
      ]
     },
     "metadata": {},
     "output_type": "display_data"
    },
    {
     "name": "stderr",
     "output_type": "stream",
     "text": [
      "Warning message in mean.default(FFASuicOrig$Rate[FFASuicOrig$Effective == 0]):\n",
      "\"argument is not numeric or logical: returning NA\""
     ]
    },
    {
     "data": {
      "text/html": [
       "&lt;NA&gt;"
      ],
      "text/latex": [
       "<NA>"
      ],
      "text/markdown": [
       "&lt;NA&gt;"
      ],
      "text/plain": [
       "[1] NA"
      ]
     },
     "metadata": {},
     "output_type": "display_data"
    },
    {
     "name": "stderr",
     "output_type": "stream",
     "text": [
      "Warning message in mean.default(FFASuicOrig$Rate[FFASuicOrig$Effective == 1]):\n",
      "\"argument is not numeric or logical: returning NA\""
     ]
    },
    {
     "data": {
      "text/html": [
       "&lt;NA&gt;"
      ],
      "text/latex": [
       "<NA>"
      ],
      "text/markdown": [
       "&lt;NA&gt;"
      ],
      "text/plain": [
       "[1] NA"
      ]
     },
     "metadata": {},
     "output_type": "display_data"
    },
    {
     "name": "stderr",
     "output_type": "stream",
     "text": [
      "Warning message in mean.default(CSFASuicOrig$Rate[CSFASuicOrig$Effective == 0]):\n",
      "\"argument is not numeric or logical: returning NA\""
     ]
    },
    {
     "data": {
      "text/html": [
       "&lt;NA&gt;"
      ],
      "text/latex": [
       "<NA>"
      ],
      "text/markdown": [
       "&lt;NA&gt;"
      ],
      "text/plain": [
       "[1] NA"
      ]
     },
     "metadata": {},
     "output_type": "display_data"
    },
    {
     "name": "stderr",
     "output_type": "stream",
     "text": [
      "Warning message in mean.default(CSFASuicOrig$Rate[CSFASuicOrig$Effective == 1]):\n",
      "\"argument is not numeric or logical: returning NA\""
     ]
    },
    {
     "data": {
      "text/html": [
       "&lt;NA&gt;"
      ],
      "text/latex": [
       "<NA>"
      ],
      "text/markdown": [
       "&lt;NA&gt;"
      ],
      "text/plain": [
       "[1] NA"
      ]
     },
     "metadata": {},
     "output_type": "display_data"
    }
   ],
   "source": [
    "\n",
    "# Subset Data\n",
    "FASuic <- subset(alldata, Cause==\"FirearmSuicide\")\n",
    "FFASuicOrig <- subset(FASuic, Treatment ==1 & OrigData ==1)\n",
    "CSFASuicOrig <- subset(FASuic, Treatment ==0 & OrigData ==1)\n",
    "\n",
    "# Mean Monthly Counts - Firearm Suicide\n",
    "mean(FFASuicOrig$Deaths[FFASuicOrig$Effective==0]) ##Florida before\n",
    "mean(FFASuicOrig$Deaths[FFASuicOrig$Effective==1]) ##Florida after\n",
    "mean(CSFASuicOrig$Deaths[CSFASuicOrig$Effective==0]) ##Control States before\n",
    "mean(CSFASuicOrig$Deaths[CSFASuicOrig$Effective==1]) ##Control States after\n",
    "\n",
    "# Mean Rate Counts - Firearm Suicide\n",
    "mean(FFASuicOrig$Rate[FFASuicOrig$Effective==0]) #Florida Before\n",
    "mean(FFASuicOrig$Rate[FFASuicOrig$Effective==1]) # Florida After\n",
    "mean(CSFASuicOrig$Rate[CSFASuicOrig$Effective==0]) ##Control States before\n",
    "mean(CSFASuicOrig$Rate[CSFASuicOrig$Effective==1]) ##Control States after"
   ]
  },
  {
   "cell_type": "code",
   "execution_count": 13,
   "metadata": {},
   "outputs": [
    {
     "data": {
      "text/plain": [
       "\n",
       "\tBreusch-Godfrey test for serial correlation of order up to 1\n",
       "\n",
       "data:  BGtesthomF\n",
       "LM test = 0.18525, df = 1, p-value = 0.6669\n"
      ]
     },
     "metadata": {},
     "output_type": "display_data"
    },
    {
     "data": {
      "text/plain": [
       "\n",
       "\tBreusch-Godfrey test for serial correlation of order up to 12\n",
       "\n",
       "data:  BGtesthomF\n",
       "LM test = 14.254, df = 12, p-value = 0.2848\n"
      ]
     },
     "metadata": {},
     "output_type": "display_data"
    },
    {
     "data": {
      "text/plain": [
       "\n",
       "\tBreusch-Godfrey test for serial correlation of order up to 1\n",
       "\n",
       "data:  BGtesthomCS\n",
       "LM test = 11.88, df = 1, p-value = 0.0005674\n"
      ]
     },
     "metadata": {},
     "output_type": "display_data"
    },
    {
     "data": {
      "text/plain": [
       "\n",
       "\tBreusch-Godfrey test for serial correlation of order up to 12\n",
       "\n",
       "data:  BGtesthomCS\n",
       "LM test = 35.725, df = 12, p-value = 0.0003586\n"
      ]
     },
     "metadata": {},
     "output_type": "display_data"
    },
    {
     "data": {
      "text/plain": [
       "\n",
       "\tBreusch-Godfrey test for serial correlation of order up to 1\n",
       "\n",
       "data:  BGtestfirehomF\n",
       "LM test = 4.0692, df = 1, p-value = 0.04367\n"
      ]
     },
     "metadata": {},
     "output_type": "display_data"
    },
    {
     "data": {
      "text/plain": [
       "\n",
       "\tBreusch-Godfrey test for serial correlation of order up to 1\n",
       "\n",
       "data:  BGtestfirehomCS\n",
       "LM test = 9.0503, df = 1, p-value = 0.002627\n"
      ]
     },
     "metadata": {},
     "output_type": "display_data"
    },
    {
     "data": {
      "text/plain": [
       "\n",
       "\tBreusch-Godfrey test for serial correlation of order up to 1\n",
       "\n",
       "data:  BGtestsuicideF\n",
       "LM test = 1.9761, df = 1, p-value = 0.1598\n"
      ]
     },
     "metadata": {},
     "output_type": "display_data"
    },
    {
     "data": {
      "text/plain": [
       "\n",
       "\tBreusch-Godfrey test for serial correlation of order up to 12\n",
       "\n",
       "data:  BGtestsuicideF\n",
       "LM test = 26.394, df = 12, p-value = 0.009436\n"
      ]
     },
     "metadata": {},
     "output_type": "display_data"
    },
    {
     "data": {
      "text/plain": [
       "\n",
       "\tBreusch-Godfrey test for serial correlation of order up to 1\n",
       "\n",
       "data:  BGtestsuicideCS\n",
       "LM test = 4.7704, df = 1, p-value = 0.02895\n"
      ]
     },
     "metadata": {},
     "output_type": "display_data"
    },
    {
     "data": {
      "text/plain": [
       "\n",
       "\tBreusch-Godfrey test for serial correlation of order up to 12\n",
       "\n",
       "data:  BGtestsuicideCS\n",
       "LM test = 44.426, df = 12, p-value = 1.292e-05\n"
      ]
     },
     "metadata": {},
     "output_type": "display_data"
    },
    {
     "data": {
      "text/plain": [
       "\n",
       "\tBreusch-Godfrey test for serial correlation of order up to 12\n",
       "\n",
       "data:  BGtestFsuicideF\n",
       "LM test = 20.567, df = 12, p-value = 0.05709\n"
      ]
     },
     "metadata": {},
     "output_type": "display_data"
    },
    {
     "data": {
      "text/plain": [
       "\n",
       "\tBreusch-Godfrey test for serial correlation of order up to 12\n",
       "\n",
       "data:  BGtestFsuicideCS\n",
       "LM test = 24.525, df = 12, p-value = 0.01724\n"
      ]
     },
     "metadata": {},
     "output_type": "display_data"
    }
   ],
   "source": [
    "# Homicide\n",
    "BGtesthomF<- glm(Deaths ~ offset(log(StdPop)) + Effective + Time + harmonic(MonthNo,2,12), \n",
    "                 family=quasipoisson, FloridaHomOrig) \n",
    "bgtest(BGtesthomF)\n",
    "bgtest(BGtesthomF, order=12)\n",
    "##Result - Florida no\n",
    "BGtesthomCS<- glm(Deaths ~ offset(log(StdPop)) + Effective + Time + harmonic(MonthNo,2,12), \n",
    "                  family=quasipoisson, ControlHomOrig) \n",
    "bgtest(BGtesthomCS)\n",
    "bgtest(BGtesthomCS, order=12)\n",
    "##Result - CS yes\n",
    "\n",
    "# Homicide by Firearm\n",
    "BGtestfirehomF<- glm(Deaths ~ offset(log(StdPop)) + Effective + Time + harmonic(MonthNo,2,12), \n",
    "                     family=quasipoisson, FFireHomOrig) \n",
    "bgtest(BGtestfirehomF)\n",
    "BGtestfirehomCS<- glm(Deaths ~ offset(log(StdPop)) + Effective + Time + harmonic(MonthNo,2,12), \n",
    "                      family=quasipoisson, CSFireHomOrig) \n",
    "bgtest(BGtestfirehomCS)\n",
    "##Result - CS and florida yes\n",
    "\n",
    "\n",
    "# Suicide\n",
    "BGtestsuicideF<- glm(Deaths ~ offset(log(StdPop)) + Effective + Time + harmonic(MonthNo,2,12), \n",
    "                     family=quasipoisson, Florida.SuiOrig) \n",
    "bgtest(BGtestsuicideF)\n",
    "bgtest(BGtestsuicideF, order=12)\n",
    "BGtestsuicideCS<- glm(Deaths ~ offset(log(StdPop)) + Effective + Time + harmonic(MonthNo,2,12), \n",
    "                      family=quasipoisson, CS.SuiOrig) \n",
    "bgtest(BGtestsuicideCS)\n",
    "bgtest(BGtestsuicideCS, order=12)\n",
    "##Result - CS and florida yes\n",
    "\n",
    "\n",
    "## Suicide by Firearm\n",
    "# Test for autocorrelation for Firearm Suicide\n",
    "BGtestFsuicideF<- glm(Deaths ~ offset(log(StdPop)) + Effective + Time, \n",
    "                      family=quasipoisson, FFASuicOrig) \n",
    "bgtest(BGtestFsuicideF, order=12)\n",
    "\n",
    "BGtestFsuicideCS<- glm(Deaths ~ offset(log(StdPop)) + Effective + Time + harmonic(MonthNo,2,12), \n",
    "                       family=quasipoisson, CSFASuicOrig) \n",
    "bgtest(BGtestFsuicideCS, order=12)"
   ]
  },
  {
   "cell_type": "code",
   "execution_count": 21,
   "metadata": {},
   "outputs": [
    {
     "name": "stderr",
     "output_type": "stream",
     "text": [
      "Warning message:\n",
      "\"package 'sandwich' was built under R version 3.6.3\""
     ]
    },
    {
     "data": {
      "text/html": [
       "<table>\n",
       "<thead><tr><th></th><th scope=col>Rep.Florida.Homicide</th><th scope=col>Step.Changeall</th><th scope=col>trendall</th><th scope=col>type</th></tr></thead>\n",
       "<tbody>\n",
       "\t<tr><th scope=row>Bottom CI</th><td>NA            </td><td>1.163083e+00  </td><td>9.978146e-01  </td><td>FloridaHomOrig</td></tr>\n",
       "\t<tr><th scope=row>Estimate</th><td>NA            </td><td>1.243856e+00  </td><td>9.984096e-01  </td><td>FloridaHomOrig</td></tr>\n",
       "\t<tr><th scope=row>Top CI</th><td>NA            </td><td>1.330237e+00  </td><td>9.990051e-01  </td><td>FloridaHomOrig</td></tr>\n",
       "\t<tr><th scope=row>P Value</th><td>NA            </td><td>1.457995e-09  </td><td>4.504536e-07  </td><td>FloridaHomOrig</td></tr>\n",
       "</tbody>\n",
       "</table>\n"
      ],
      "text/latex": [
       "\\begin{tabular}{r|llll}\n",
       "  & Rep.Florida.Homicide & Step.Changeall & trendall & type\\\\\n",
       "\\hline\n",
       "\tBottom CI & NA             & 1.163083e+00   & 9.978146e-01   & FloridaHomOrig\\\\\n",
       "\tEstimate & NA             & 1.243856e+00   & 9.984096e-01   & FloridaHomOrig\\\\\n",
       "\tTop CI & NA             & 1.330237e+00   & 9.990051e-01   & FloridaHomOrig\\\\\n",
       "\tP Value & NA             & 1.457995e-09   & 4.504536e-07   & FloridaHomOrig\\\\\n",
       "\\end{tabular}\n"
      ],
      "text/markdown": [
       "\n",
       "| <!--/--> | Rep.Florida.Homicide | Step.Changeall | trendall | type |\n",
       "|---|---|---|---|---|\n",
       "| Bottom CI | NA             | 1.163083e+00   | 9.978146e-01   | FloridaHomOrig |\n",
       "| Estimate | NA             | 1.243856e+00   | 9.984096e-01   | FloridaHomOrig |\n",
       "| Top CI | NA             | 1.330237e+00   | 9.990051e-01   | FloridaHomOrig |\n",
       "| P Value | NA             | 1.457995e-09   | 4.504536e-07   | FloridaHomOrig |\n",
       "\n"
      ],
      "text/plain": [
       "          Rep.Florida.Homicide Step.Changeall trendall     type          \n",
       "Bottom CI NA                   1.163083e+00   9.978146e-01 FloridaHomOrig\n",
       "Estimate  NA                   1.243856e+00   9.984096e-01 FloridaHomOrig\n",
       "Top CI    NA                   1.330237e+00   9.990051e-01 FloridaHomOrig\n",
       "P Value   NA                   1.457995e-09   4.504536e-07 FloridaHomOrig"
      ]
     },
     "metadata": {},
     "output_type": "display_data"
    },
    {
     "data": {
      "text/html": [
       "<table>\n",
       "<thead><tr><th></th><th scope=col>Rep.Florida.Homicide</th><th scope=col>Step.Changeall</th><th scope=col>trendall</th><th scope=col>type</th></tr></thead>\n",
       "<tbody>\n",
       "\t<tr><th scope=row>Bottom CI</th><td>NA            </td><td>1.163083e+00  </td><td>9.978146e-01  </td><td>FloridaHomOrig</td></tr>\n",
       "\t<tr><th scope=row>Estimate</th><td>NA            </td><td>1.243856e+00  </td><td>9.984096e-01  </td><td>FloridaHomOrig</td></tr>\n",
       "\t<tr><th scope=row>Top CI</th><td>NA            </td><td>1.330237e+00  </td><td>9.990051e-01  </td><td>FloridaHomOrig</td></tr>\n",
       "\t<tr><th scope=row>P Value</th><td>NA            </td><td>1.457995e-09  </td><td>4.504536e-07  </td><td>FloridaHomOrig</td></tr>\n",
       "</tbody>\n",
       "</table>\n"
      ],
      "text/latex": [
       "\\begin{tabular}{r|llll}\n",
       "  & Rep.Florida.Homicide & Step.Changeall & trendall & type\\\\\n",
       "\\hline\n",
       "\tBottom CI & NA             & 1.163083e+00   & 9.978146e-01   & FloridaHomOrig\\\\\n",
       "\tEstimate & NA             & 1.243856e+00   & 9.984096e-01   & FloridaHomOrig\\\\\n",
       "\tTop CI & NA             & 1.330237e+00   & 9.990051e-01   & FloridaHomOrig\\\\\n",
       "\tP Value & NA             & 1.457995e-09   & 4.504536e-07   & FloridaHomOrig\\\\\n",
       "\\end{tabular}\n"
      ],
      "text/markdown": [
       "\n",
       "| <!--/--> | Rep.Florida.Homicide | Step.Changeall | trendall | type |\n",
       "|---|---|---|---|---|\n",
       "| Bottom CI | NA             | 1.163083e+00   | 9.978146e-01   | FloridaHomOrig |\n",
       "| Estimate | NA             | 1.243856e+00   | 9.984096e-01   | FloridaHomOrig |\n",
       "| Top CI | NA             | 1.330237e+00   | 9.990051e-01   | FloridaHomOrig |\n",
       "| P Value | NA             | 1.457995e-09   | 4.504536e-07   | FloridaHomOrig |\n",
       "\n"
      ],
      "text/plain": [
       "          Rep.Florida.Homicide Step.Changeall trendall     type          \n",
       "Bottom CI NA                   1.163083e+00   9.978146e-01 FloridaHomOrig\n",
       "Estimate  NA                   1.243856e+00   9.984096e-01 FloridaHomOrig\n",
       "Top CI    NA                   1.330237e+00   9.990051e-01 FloridaHomOrig\n",
       "P Value   NA                   1.457995e-09   4.504536e-07 FloridaHomOrig"
      ]
     },
     "metadata": {},
     "output_type": "display_data"
    },
    {
     "data": {
      "text/html": [
       "<table>\n",
       "<thead><tr><th></th><th scope=col>Table1ModelsRSE</th><th scope=col>Step.Change</th><th scope=col>trendall</th><th scope=col>type</th><th scope=col>Step.Change.1</th><th scope=col>trendall.1</th><th scope=col>type.1</th><th scope=col>Step.Change.2</th><th scope=col>trendall.2</th><th scope=col>type.2</th><th scope=col>...</th><th scope=col>type</th><th scope=col>Step.Change</th><th scope=col>trendall</th><th scope=col>type.1</th><th scope=col>Step.Change.1</th><th scope=col>trendall.1</th><th scope=col>type.2</th><th scope=col>Step.Change.2</th><th scope=col>trendall.2</th><th scope=col>type.3</th></tr></thead>\n",
       "<tbody>\n",
       "\t<tr><th scope=row>Bottom CI</th><td>NA             </td><td>0.98577381     </td><td>9.981960e-01   </td><td>ControlHomOrig </td><td>1.205481e+00   </td><td>0.9986225      </td><td>FFireHomOrig   </td><td>0.98655403     </td><td>0.99851672     </td><td>CSFireHomOrig  </td><td>...            </td><td>Florida.SuiOrig</td><td>0.9571879      </td><td>1.001415e+00   </td><td>CS.SuiOrig     </td><td>0.9100831      </td><td>1.000233280    </td><td>FFASuicOrig    </td><td>0.90096983     </td><td>1.000750e+00   </td><td>CSFASuicOrig   </td></tr>\n",
       "\t<tr><th scope=row>Step Change</th><td>NA             </td><td>1.05708948     </td><td>9.986992e-01   </td><td>ControlHomOrig </td><td>1.315861e+00   </td><td>0.9994129      </td><td>FFireHomOrig   </td><td>1.07627849     </td><td>0.99914213     </td><td>CSFireHomOrig  </td><td>...            </td><td>Florida.SuiOrig</td><td>0.9959616      </td><td>1.001777e+00   </td><td>CS.SuiOrig     </td><td>0.9815614      </td><td>1.000822887    </td><td>FFASuicOrig    </td><td>0.95544824     </td><td>1.001227e+00   </td><td>CSFASuicOrig   </td></tr>\n",
       "\t<tr><th scope=row>Top CI</th><td>NA             </td><td>1.13356448     </td><td>9.992026e-01   </td><td>ControlHomOrig </td><td>1.436348e+00   </td><td>1.0002038      </td><td>FFireHomOrig   </td><td>1.17416316     </td><td>0.99976793     </td><td>CSFireHomOrig  </td><td>...            </td><td>Florida.SuiOrig</td><td>1.0363060      </td><td>1.002139e+00   </td><td>CS.SuiOrig     </td><td>1.0586536      </td><td>1.001412841    </td><td>FFASuicOrig    </td><td>1.01322078     </td><td>1.001704e+00   </td><td>CSFASuicOrig   </td></tr>\n",
       "\t<tr><th scope=row>P Value</th><td>NA             </td><td>0.05355714     </td><td>9.987271e-07   </td><td>ControlHomOrig </td><td>1.244803e-08   </td><td>0.1473518      </td><td>FFireHomOrig   </td><td>0.04154977     </td><td>0.00787837     </td><td>CSFireHomOrig  </td><td>...            </td><td>Florida.SuiOrig</td><td>0.8474703      </td><td>4.583058e-18   </td><td>CS.SuiOrig     </td><td>0.5862008      </td><td>0.006829904    </td><td>FFASuicOrig    </td><td>0.09987135     </td><td>1.096047e-06   </td><td>CSFASuicOrig   </td></tr>\n",
       "</tbody>\n",
       "</table>\n"
      ],
      "text/latex": [
       "\\begin{tabular}{r|llllllllllllllllllllll}\n",
       "  & Table1ModelsRSE & Step.Change & trendall & type & Step.Change.1 & trendall.1 & type.1 & Step.Change.2 & trendall.2 & type.2 & ... & type & Step.Change & trendall & type.1 & Step.Change.1 & trendall.1 & type.2 & Step.Change.2 & trendall.2 & type.3\\\\\n",
       "\\hline\n",
       "\tBottom CI & NA              & 0.98577381      & 9.981960e-01    & ControlHomOrig  & 1.205481e+00    & 0.9986225       & FFireHomOrig    & 0.98655403      & 0.99851672      & CSFireHomOrig   & ...             & Florida.SuiOrig & 0.9571879       & 1.001415e+00    & CS.SuiOrig      & 0.9100831       & 1.000233280     & FFASuicOrig     & 0.90096983      & 1.000750e+00    & CSFASuicOrig   \\\\\n",
       "\tStep Change & NA              & 1.05708948      & 9.986992e-01    & ControlHomOrig  & 1.315861e+00    & 0.9994129       & FFireHomOrig    & 1.07627849      & 0.99914213      & CSFireHomOrig   & ...             & Florida.SuiOrig & 0.9959616       & 1.001777e+00    & CS.SuiOrig      & 0.9815614       & 1.000822887     & FFASuicOrig     & 0.95544824      & 1.001227e+00    & CSFASuicOrig   \\\\\n",
       "\tTop CI & NA              & 1.13356448      & 9.992026e-01    & ControlHomOrig  & 1.436348e+00    & 1.0002038       & FFireHomOrig    & 1.17416316      & 0.99976793      & CSFireHomOrig   & ...             & Florida.SuiOrig & 1.0363060       & 1.002139e+00    & CS.SuiOrig      & 1.0586536       & 1.001412841     & FFASuicOrig     & 1.01322078      & 1.001704e+00    & CSFASuicOrig   \\\\\n",
       "\tP Value & NA              & 0.05355714      & 9.987271e-07    & ControlHomOrig  & 1.244803e-08    & 0.1473518       & FFireHomOrig    & 0.04154977      & 0.00787837      & CSFireHomOrig   & ...             & Florida.SuiOrig & 0.8474703       & 4.583058e-18    & CS.SuiOrig      & 0.5862008       & 0.006829904     & FFASuicOrig     & 0.09987135      & 1.096047e-06    & CSFASuicOrig   \\\\\n",
       "\\end{tabular}\n"
      ],
      "text/markdown": [
       "\n",
       "| <!--/--> | Table1ModelsRSE | Step.Change | trendall | type | Step.Change.1 | trendall.1 | type.1 | Step.Change.2 | trendall.2 | type.2 | ... | type | Step.Change | trendall | type.1 | Step.Change.1 | trendall.1 | type.2 | Step.Change.2 | trendall.2 | type.3 |\n",
       "|---|---|---|---|---|---|---|---|---|---|---|---|---|---|---|---|---|---|---|---|---|---|\n",
       "| Bottom CI | NA              | 0.98577381      | 9.981960e-01    | ControlHomOrig  | 1.205481e+00    | 0.9986225       | FFireHomOrig    | 0.98655403      | 0.99851672      | CSFireHomOrig   | ...             | Florida.SuiOrig | 0.9571879       | 1.001415e+00    | CS.SuiOrig      | 0.9100831       | 1.000233280     | FFASuicOrig     | 0.90096983      | 1.000750e+00    | CSFASuicOrig    |\n",
       "| Step Change | NA              | 1.05708948      | 9.986992e-01    | ControlHomOrig  | 1.315861e+00    | 0.9994129       | FFireHomOrig    | 1.07627849      | 0.99914213      | CSFireHomOrig   | ...             | Florida.SuiOrig | 0.9959616       | 1.001777e+00    | CS.SuiOrig      | 0.9815614       | 1.000822887     | FFASuicOrig     | 0.95544824      | 1.001227e+00    | CSFASuicOrig    |\n",
       "| Top CI | NA              | 1.13356448      | 9.992026e-01    | ControlHomOrig  | 1.436348e+00    | 1.0002038       | FFireHomOrig    | 1.17416316      | 0.99976793      | CSFireHomOrig   | ...             | Florida.SuiOrig | 1.0363060       | 1.002139e+00    | CS.SuiOrig      | 1.0586536       | 1.001412841     | FFASuicOrig     | 1.01322078      | 1.001704e+00    | CSFASuicOrig    |\n",
       "| P Value | NA              | 0.05355714      | 9.987271e-07    | ControlHomOrig  | 1.244803e-08    | 0.1473518       | FFireHomOrig    | 0.04154977      | 0.00787837      | CSFireHomOrig   | ...             | Florida.SuiOrig | 0.8474703       | 4.583058e-18    | CS.SuiOrig      | 0.5862008       | 0.006829904     | FFASuicOrig     | 0.09987135      | 1.096047e-06    | CSFASuicOrig    |\n",
       "\n"
      ],
      "text/plain": [
       "            Table1ModelsRSE Step.Change trendall     type          \n",
       "Bottom CI   NA              0.98577381  9.981960e-01 ControlHomOrig\n",
       "Step Change NA              1.05708948  9.986992e-01 ControlHomOrig\n",
       "Top CI      NA              1.13356448  9.992026e-01 ControlHomOrig\n",
       "P Value     NA              0.05355714  9.987271e-07 ControlHomOrig\n",
       "            Step.Change.1 trendall.1 type.1       Step.Change.2 trendall.2\n",
       "Bottom CI   1.205481e+00  0.9986225  FFireHomOrig 0.98655403    0.99851672\n",
       "Step Change 1.315861e+00  0.9994129  FFireHomOrig 1.07627849    0.99914213\n",
       "Top CI      1.436348e+00  1.0002038  FFireHomOrig 1.17416316    0.99976793\n",
       "P Value     1.244803e-08  0.1473518  FFireHomOrig 0.04154977    0.00787837\n",
       "            type.2        ... type            Step.Change trendall    \n",
       "Bottom CI   CSFireHomOrig ... Florida.SuiOrig 0.9571879   1.001415e+00\n",
       "Step Change CSFireHomOrig ... Florida.SuiOrig 0.9959616   1.001777e+00\n",
       "Top CI      CSFireHomOrig ... Florida.SuiOrig 1.0363060   1.002139e+00\n",
       "P Value     CSFireHomOrig ... Florida.SuiOrig 0.8474703   4.583058e-18\n",
       "            type.1     Step.Change.1 trendall.1  type.2      Step.Change.2\n",
       "Bottom CI   CS.SuiOrig 0.9100831     1.000233280 FFASuicOrig 0.90096983   \n",
       "Step Change CS.SuiOrig 0.9815614     1.000822887 FFASuicOrig 0.95544824   \n",
       "Top CI      CS.SuiOrig 1.0586536     1.001412841 FFASuicOrig 1.01322078   \n",
       "P Value     CS.SuiOrig 0.5862008     0.006829904 FFASuicOrig 0.09987135   \n",
       "            trendall.2   type.3      \n",
       "Bottom CI   1.000750e+00 CSFASuicOrig\n",
       "Step Change 1.001227e+00 CSFASuicOrig\n",
       "Top CI      1.001704e+00 CSFASuicOrig\n",
       "P Value     1.096047e-06 CSFASuicOrig"
      ]
     },
     "metadata": {},
     "output_type": "display_data"
    }
   ],
   "source": [
    "library(sandwich)\n",
    "Rep.Florida.Homicide <- rep(NA)\n",
    "for (dataset in c(\"FloridaHomOrig\")){\n",
    "  if (dataset == \"FloridaHomOrig\"){\n",
    "    temp.data <- FloridaHomOrig\n",
    "  }\n",
    "  Test<- glm(Deaths ~ offset(log(StdPop)) + Effective + Time + harmonic(MonthNo,2,12), \n",
    "             family=quasipoisson, temp.data) \n",
    "  \n",
    "  stepchangeestimate <- exp(ci.lin(Test, subset=\"Effective\")[,\"Estimate\"])\n",
    "  stepchangebottomCI <- exp(ci.lin(Test, subset=\"Effective\")[,\"2.5%\"])\n",
    "  stepchangetopCI <- exp(ci.lin(Test, subset=\"Effective\")[,\"97.5%\"])\n",
    "  stepchangep <- summary(Test)$coefficients[\"Effective\",4]\n",
    "  Step.Changeall <- rbind(stepchangebottomCI, stepchangeestimate, stepchangetopCI, stepchangep)\n",
    "  trendestimate <- exp(ci.lin(Test, subset=\"Time\")[,\"Estimate\"])\n",
    "  trendbottomCI <- exp(ci.lin(Test, subset=\"Time\")[,\"2.5%\"])\n",
    "  trendtopCI <- exp(ci.lin(Test, subset=\"Time\")[,\"97.5%\"])\n",
    "  trendpval <- summary(Test)$coefficients[\"Time\",4]\n",
    "  trendall <- rbind(trendbottomCI, trendestimate, trendtopCI, trendpval)\n",
    "  dta <- data.frame(Step.Changeall, trendall, type = dataset)\n",
    "  Rep.Florida.Homicide <- cbind(Rep.Florida.Homicide, dta)\n",
    "  rownames(Rep.Florida.Homicide) = c(\"Bottom CI\",\"Estimate\", \"Top CI\", \"P Value\")\n",
    "}\n",
    "Rep.Florida.Homicide\n",
    "Rep.Florida.Homicide\n",
    "\n",
    "## FOR LOOP FOR EVERYTHING WITH ROBUST SE\n",
    "Table1ModelsRSE <- NA\n",
    "for (dataset in c(\"ControlHomOrig\", \"FFireHomOrig\",\"CSFireHomOrig\",\"Florida.SuiOrig\",\"CS.SuiOrig\",\"FFASuicOrig\",\"CSFASuicOrig\")){\n",
    "  if (dataset == \"ControlHomOrig\"){\n",
    "    temp.data <- ControlHomOrig\n",
    "  }\n",
    "  else if (dataset == \"FFireHomOrig\"){\n",
    "    temp.data <- FFireHomOrig\n",
    "  }\n",
    "  else if (dataset == \"CSFireHomOrig\"){\n",
    "    temp.data <- CSFireHomOrig\n",
    "  }\n",
    "  else if (dataset == \"Florida.SuiOrig\"){\n",
    "    temp.data <- Florida.SuiOrig\n",
    "  }\n",
    "  else if (dataset == \"CS.SuiOrig\"){\n",
    "    temp.data <- CS.SuiOrig\n",
    "  }\n",
    "  else if (dataset == \"FFASuicOrig\"){\n",
    "    temp.data <- FFASuicOrig\n",
    "  } \n",
    "  else if (dataset == \"CSFASuicOrig\"){\n",
    "    temp.data <- CSFASuicOrig\n",
    "  } \n",
    " Harmonicmodel<- glm(Deaths ~ offset(log(StdPop)) + Effective + Time + harmonic(MonthNo,2,12), \n",
    "                      family=quasipoisson, temp.data) \n",
    "  coef <- coef(Harmonicmodel)[\"Effective\"]\n",
    "  se <- sqrt(vcovHAC(Harmonicmodel)[\"Effective\",\"Effective\"])\n",
    "  Step.Change <-c(ll=exp(coef-qnorm(0.975)*se),RR=exp(coef), ul=exp(coef+qnorm(0.975)*se),\n",
    "                  summary(Harmonicmodel)$coefficients[\"Effective\",4] )\n",
    "  trendestimate <- exp(ci.lin(Harmonicmodel, subset=\"Time\")[,\"Estimate\"])\n",
    "  trendpval <- summary(Harmonicmodel)$coefficients[\"Time\",4]\n",
    "  trendbottomCI <- exp(ci.lin(Harmonicmodel, subset=\"Time\")[,\"2.5%\"])\n",
    "  trendtopCI <- exp(ci.lin(Harmonicmodel, subset=\"Time\")[,\"97.5%\"])\n",
    "  trendall <- rbind(trendbottomCI, trendestimate, trendtopCI, trendpval)\n",
    "  dta3 <- data.frame(Step.Change, trendall, type = dataset)\n",
    "  Table1ModelsRSE <- cbind(Table1ModelsRSE, dta3)\n",
    "  rownames(Table1ModelsRSE) = c(\"Bottom CI\",\"Step Change\", \"Top CI\", \"P Value\")\n",
    "}\n",
    "Table1ModelsRSE"
   ]
  },
  {
   "cell_type": "code",
   "execution_count": 22,
   "metadata": {},
   "outputs": [
    {
     "data": {
      "text/html": [
       "<table>\n",
       "<thead><tr><th></th><th scope=col>Estimate</th><th scope=col>StdErr</th><th scope=col>z</th><th scope=col>P</th><th scope=col>2.5%</th><th scope=col>97.5%</th></tr></thead>\n",
       "<tbody>\n",
       "\t<tr><th scope=row>Effective:Treatment</th><td>0.1704733   </td><td>0.04621531  </td><td>3.688675    </td><td>0.0002254251</td><td>0.07989291  </td><td>0.2610536   </td></tr>\n",
       "</tbody>\n",
       "</table>\n"
      ],
      "text/latex": [
       "\\begin{tabular}{r|llllll}\n",
       "  & Estimate & StdErr & z & P & 2.5\\% & 97.5\\%\\\\\n",
       "\\hline\n",
       "\tEffective:Treatment & 0.1704733    & 0.04621531   & 3.688675     & 0.0002254251 & 0.07989291   & 0.2610536   \\\\\n",
       "\\end{tabular}\n"
      ],
      "text/markdown": [
       "\n",
       "| <!--/--> | Estimate | StdErr | z | P | 2.5% | 97.5% |\n",
       "|---|---|---|---|---|---|---|\n",
       "| Effective:Treatment | 0.1704733    | 0.04621531   | 3.688675     | 0.0002254251 | 0.07989291   | 0.2610536    |\n",
       "\n"
      ],
      "text/plain": [
       "                    Estimate  StdErr     z        P            2.5%      \n",
       "Effective:Treatment 0.1704733 0.04621531 3.688675 0.0002254251 0.07989291\n",
       "                    97.5%    \n",
       "Effective:Treatment 0.2610536"
      ]
     },
     "metadata": {},
     "output_type": "display_data"
    },
    {
     "data": {
      "text/html": [
       "<table>\n",
       "<thead><tr><th></th><th scope=col>Estimate</th><th scope=col>StdErr</th><th scope=col>z</th><th scope=col>P</th><th scope=col>2.5%</th><th scope=col>97.5%</th></tr></thead>\n",
       "<tbody>\n",
       "\t<tr><th scope=row>Effective:Treatment</th><td>-0.001351945</td><td>0.03410075  </td><td>-0.03964563 </td><td>0.9683757   </td><td>-0.06818818 </td><td>0.06548429  </td></tr>\n",
       "</tbody>\n",
       "</table>\n"
      ],
      "text/latex": [
       "\\begin{tabular}{r|llllll}\n",
       "  & Estimate & StdErr & z & P & 2.5\\% & 97.5\\%\\\\\n",
       "\\hline\n",
       "\tEffective:Treatment & -0.001351945 & 0.03410075   & -0.03964563  & 0.9683757    & -0.06818818  & 0.06548429  \\\\\n",
       "\\end{tabular}\n"
      ],
      "text/markdown": [
       "\n",
       "| <!--/--> | Estimate | StdErr | z | P | 2.5% | 97.5% |\n",
       "|---|---|---|---|---|---|---|\n",
       "| Effective:Treatment | -0.001351945 | 0.03410075   | -0.03964563  | 0.9683757    | -0.06818818  | 0.06548429   |\n",
       "\n"
      ],
      "text/plain": [
       "                    Estimate     StdErr     z           P         2.5%       \n",
       "Effective:Treatment -0.001351945 0.03410075 -0.03964563 0.9683757 -0.06818818\n",
       "                    97.5%     \n",
       "Effective:Treatment 0.06548429"
      ]
     },
     "metadata": {},
     "output_type": "display_data"
    },
    {
     "data": {
      "text/html": [
       "<table>\n",
       "<thead><tr><th></th><th scope=col>Estimate</th><th scope=col>StdErr</th><th scope=col>z</th><th scope=col>P</th><th scope=col>2.5%</th><th scope=col>97.5%</th></tr></thead>\n",
       "<tbody>\n",
       "\t<tr><th scope=row>Effective:Treatment</th><td>0.2113513   </td><td>0.05934362  </td><td>3.561484    </td><td>0.0003687652</td><td>0.09503998  </td><td>0.3276627   </td></tr>\n",
       "</tbody>\n",
       "</table>\n"
      ],
      "text/latex": [
       "\\begin{tabular}{r|llllll}\n",
       "  & Estimate & StdErr & z & P & 2.5\\% & 97.5\\%\\\\\n",
       "\\hline\n",
       "\tEffective:Treatment & 0.2113513    & 0.05934362   & 3.561484     & 0.0003687652 & 0.09503998   & 0.3276627   \\\\\n",
       "\\end{tabular}\n"
      ],
      "text/markdown": [
       "\n",
       "| <!--/--> | Estimate | StdErr | z | P | 2.5% | 97.5% |\n",
       "|---|---|---|---|---|---|---|\n",
       "| Effective:Treatment | 0.2113513    | 0.05934362   | 3.561484     | 0.0003687652 | 0.09503998   | 0.3276627    |\n",
       "\n"
      ],
      "text/plain": [
       "                    Estimate  StdErr     z        P            2.5%      \n",
       "Effective:Treatment 0.2113513 0.05934362 3.561484 0.0003687652 0.09503998\n",
       "                    97.5%    \n",
       "Effective:Treatment 0.3276627"
      ]
     },
     "metadata": {},
     "output_type": "display_data"
    },
    {
     "data": {
      "text/html": [
       "<table>\n",
       "<thead><tr><th></th><th scope=col>Estimate</th><th scope=col>StdErr</th><th scope=col>z</th><th scope=col>P</th><th scope=col>2.5%</th><th scope=col>97.5%</th></tr></thead>\n",
       "<tbody>\n",
       "\t<tr><th scope=row>Effective:Treatment</th><td>0.02678262 </td><td>0.0434747  </td><td>0.6160508  </td><td>0.537861   </td><td>-0.05842622</td><td>0.1119915  </td></tr>\n",
       "</tbody>\n",
       "</table>\n"
      ],
      "text/latex": [
       "\\begin{tabular}{r|llllll}\n",
       "  & Estimate & StdErr & z & P & 2.5\\% & 97.5\\%\\\\\n",
       "\\hline\n",
       "\tEffective:Treatment & 0.02678262  & 0.0434747   & 0.6160508   & 0.537861    & -0.05842622 & 0.1119915  \\\\\n",
       "\\end{tabular}\n"
      ],
      "text/markdown": [
       "\n",
       "| <!--/--> | Estimate | StdErr | z | P | 2.5% | 97.5% |\n",
       "|---|---|---|---|---|---|---|\n",
       "| Effective:Treatment | 0.02678262  | 0.0434747   | 0.6160508   | 0.537861    | -0.05842622 | 0.1119915   |\n",
       "\n"
      ],
      "text/plain": [
       "                    Estimate   StdErr    z         P        2.5%       \n",
       "Effective:Treatment 0.02678262 0.0434747 0.6160508 0.537861 -0.05842622\n",
       "                    97.5%    \n",
       "Effective:Treatment 0.1119915"
      ]
     },
     "metadata": {},
     "output_type": "display_data"
    }
   ],
   "source": [
    "\n",
    "#########################\n",
    "##  INTERACTION MODELS ##\n",
    "#########################\n",
    "\n",
    "## Homicide\n",
    "HomInteractOrig <- glm(Deaths ~ offset(log(StdPop)) + Effective*Treatment + Time*Treatment\n",
    "                       + harmonic(MonthNo,2,12),family=quasipoisson, allhom, subset = OrigData ==1)\n",
    "ci.lin(HomInteractOrig,subset=\"Effective:Treatment\")\n",
    "\n",
    "## All Suicides\n",
    "SuicideInteract <- glm(Deaths ~ offset(log(StdPop)) + Effective*Treatment + Time*Treatment\n",
    "                       + harmonic(MonthNo,2,12),family=quasipoisson, allsuicides, subset = OrigData ==1)\n",
    "ci.lin(SuicideInteract,subset=\"Effective:Treatment\")\n",
    "\n",
    "## Firearm Homicide\n",
    "FireHomInteract <- glm(Deaths ~ offset(log(StdPop)) + Effective*Treatment + Time*Treatment\n",
    "                       + harmonic(MonthNo,2,12),family=quasipoisson, firehom, subset = OrigData ==1)\n",
    "ci.lin(FireHomInteract,subset=\"Effective:Treatment\")\n",
    "\n",
    "## Firearm Suicides\n",
    "FirearmSuicideInteract <- glm(Deaths ~ offset(log(StdPop)) + Effective*Treatment + Time*Treatment\n",
    "                              + harmonic(MonthNo,2,12),family=quasipoisson, FASuic, subset = OrigData ==1)\n",
    "ci.lin(FirearmSuicideInteract,subset=\"Effective:Treatment\")"
   ]
  },
  {
   "cell_type": "code",
   "execution_count": 27,
   "metadata": {},
   "outputs": [
    {
     "data": {
      "text/html": [
       "<table>\n",
       "<thead><tr><th></th><th scope=col>MonYear</th><th scope=col>Year</th><th scope=col>MonthNo</th><th scope=col>Deaths</th><th scope=col>Treatment</th><th scope=col>Effective</th><th scope=col>Pop</th><th scope=col>StdPop</th><th scope=col>Time</th><th scope=col>Trend</th><th scope=col>OrigData</th><th scope=col>Cause</th><th scope=col>Data.Table</th><th scope=col>Characteristic</th><th scope=col>Level</th><th scope=col>TXtime</th><th scope=col>TXlevel</th><th scope=col>TXtrend</th></tr></thead>\n",
       "<tbody>\n",
       "\t<tr><th scope=row>865</th><td>Jan., 1999     </td><td>1999           </td><td>1              </td><td>46             </td><td>1              </td><td>0              </td><td>15759421       </td><td>157.5942       </td><td>1              </td><td>0              </td><td>1              </td><td>FirearmHomicide</td><td>Table1         </td><td>All            </td><td>0              </td><td>1              </td><td>0              </td><td>0              </td></tr>\n",
       "\t<tr><th scope=row>866</th><td>Feb., 1999     </td><td>1999           </td><td>2              </td><td>39             </td><td>1              </td><td>0              </td><td>15759421       </td><td>157.5942       </td><td>2              </td><td>0              </td><td>1              </td><td>FirearmHomicide</td><td>Table1         </td><td>All            </td><td>0              </td><td>2              </td><td>0              </td><td>0              </td></tr>\n",
       "\t<tr><th scope=row>867</th><td>Mar., 1999     </td><td>1999           </td><td>3              </td><td>48             </td><td>1              </td><td>0              </td><td>15759421       </td><td>157.5942       </td><td>3              </td><td>0              </td><td>1              </td><td>FirearmHomicide</td><td>Table1         </td><td>All            </td><td>0              </td><td>3              </td><td>0              </td><td>0              </td></tr>\n",
       "\t<tr><th scope=row>868</th><td>Apr., 1999     </td><td>1999           </td><td>4              </td><td>38             </td><td>1              </td><td>0              </td><td>15759421       </td><td>157.5942       </td><td>4              </td><td>0              </td><td>1              </td><td>FirearmHomicide</td><td>Table1         </td><td>All            </td><td>0              </td><td>4              </td><td>0              </td><td>0              </td></tr>\n",
       "\t<tr><th scope=row>869</th><td>May, 1999      </td><td>1999           </td><td>5              </td><td>45             </td><td>1              </td><td>0              </td><td>15759421       </td><td>157.5942       </td><td>5              </td><td>0              </td><td>1              </td><td>FirearmHomicide</td><td>Table1         </td><td>All            </td><td>0              </td><td>5              </td><td>0              </td><td>0              </td></tr>\n",
       "\t<tr><th scope=row>870</th><td>Jun., 1999     </td><td>1999           </td><td>6              </td><td>47             </td><td>1              </td><td>0              </td><td>15759421       </td><td>157.5942       </td><td>6              </td><td>0              </td><td>1              </td><td>FirearmHomicide</td><td>Table1         </td><td>All            </td><td>0              </td><td>6              </td><td>0              </td><td>0              </td></tr>\n",
       "</tbody>\n",
       "</table>\n"
      ],
      "text/latex": [
       "\\begin{tabular}{r|llllllllllllllllll}\n",
       "  & MonYear & Year & MonthNo & Deaths & Treatment & Effective & Pop & StdPop & Time & Trend & OrigData & Cause & Data.Table & Characteristic & Level & TXtime & TXlevel & TXtrend\\\\\n",
       "\\hline\n",
       "\t865 & Jan., 1999      & 1999            & 1               & 46              & 1               & 0               & 15759421        & 157.5942        & 1               & 0               & 1               & FirearmHomicide & Table1          & All             & 0               & 1               & 0               & 0              \\\\\n",
       "\t866 & Feb., 1999      & 1999            & 2               & 39              & 1               & 0               & 15759421        & 157.5942        & 2               & 0               & 1               & FirearmHomicide & Table1          & All             & 0               & 2               & 0               & 0              \\\\\n",
       "\t867 & Mar., 1999      & 1999            & 3               & 48              & 1               & 0               & 15759421        & 157.5942        & 3               & 0               & 1               & FirearmHomicide & Table1          & All             & 0               & 3               & 0               & 0              \\\\\n",
       "\t868 & Apr., 1999      & 1999            & 4               & 38              & 1               & 0               & 15759421        & 157.5942        & 4               & 0               & 1               & FirearmHomicide & Table1          & All             & 0               & 4               & 0               & 0              \\\\\n",
       "\t869 & May, 1999       & 1999            & 5               & 45              & 1               & 0               & 15759421        & 157.5942        & 5               & 0               & 1               & FirearmHomicide & Table1          & All             & 0               & 5               & 0               & 0              \\\\\n",
       "\t870 & Jun., 1999      & 1999            & 6               & 47              & 1               & 0               & 15759421        & 157.5942        & 6               & 0               & 1               & FirearmHomicide & Table1          & All             & 0               & 6               & 0               & 0              \\\\\n",
       "\\end{tabular}\n"
      ],
      "text/markdown": [
       "\n",
       "| <!--/--> | MonYear | Year | MonthNo | Deaths | Treatment | Effective | Pop | StdPop | Time | Trend | OrigData | Cause | Data.Table | Characteristic | Level | TXtime | TXlevel | TXtrend |\n",
       "|---|---|---|---|---|---|---|---|---|---|---|---|---|---|---|---|---|---|---|\n",
       "| 865 | Jan., 1999      | 1999            | 1               | 46              | 1               | 0               | 15759421        | 157.5942        | 1               | 0               | 1               | FirearmHomicide | Table1          | All             | 0               | 1               | 0               | 0               |\n",
       "| 866 | Feb., 1999      | 1999            | 2               | 39              | 1               | 0               | 15759421        | 157.5942        | 2               | 0               | 1               | FirearmHomicide | Table1          | All             | 0               | 2               | 0               | 0               |\n",
       "| 867 | Mar., 1999      | 1999            | 3               | 48              | 1               | 0               | 15759421        | 157.5942        | 3               | 0               | 1               | FirearmHomicide | Table1          | All             | 0               | 3               | 0               | 0               |\n",
       "| 868 | Apr., 1999      | 1999            | 4               | 38              | 1               | 0               | 15759421        | 157.5942        | 4               | 0               | 1               | FirearmHomicide | Table1          | All             | 0               | 4               | 0               | 0               |\n",
       "| 869 | May, 1999       | 1999            | 5               | 45              | 1               | 0               | 15759421        | 157.5942        | 5               | 0               | 1               | FirearmHomicide | Table1          | All             | 0               | 5               | 0               | 0               |\n",
       "| 870 | Jun., 1999      | 1999            | 6               | 47              | 1               | 0               | 15759421        | 157.5942        | 6               | 0               | 1               | FirearmHomicide | Table1          | All             | 0               | 6               | 0               | 0               |\n",
       "\n"
      ],
      "text/plain": [
       "    MonYear    Year MonthNo Deaths Treatment Effective Pop      StdPop   Time\n",
       "865 Jan., 1999 1999 1       46     1         0         15759421 157.5942 1   \n",
       "866 Feb., 1999 1999 2       39     1         0         15759421 157.5942 2   \n",
       "867 Mar., 1999 1999 3       48     1         0         15759421 157.5942 3   \n",
       "868 Apr., 1999 1999 4       38     1         0         15759421 157.5942 4   \n",
       "869 May, 1999  1999 5       45     1         0         15759421 157.5942 5   \n",
       "870 Jun., 1999 1999 6       47     1         0         15759421 157.5942 6   \n",
       "    Trend OrigData Cause           Data.Table Characteristic Level TXtime\n",
       "865 0     1        FirearmHomicide Table1     All            0     1     \n",
       "866 0     1        FirearmHomicide Table1     All            0     2     \n",
       "867 0     1        FirearmHomicide Table1     All            0     3     \n",
       "868 0     1        FirearmHomicide Table1     All            0     4     \n",
       "869 0     1        FirearmHomicide Table1     All            0     5     \n",
       "870 0     1        FirearmHomicide Table1     All            0     6     \n",
       "    TXlevel TXtrend\n",
       "865 0       0      \n",
       "866 0       0      \n",
       "867 0       0      \n",
       "868 0       0      \n",
       "869 0       0      \n",
       "870 0       0      "
      ]
     },
     "metadata": {},
     "output_type": "display_data"
    }
   ],
   "source": [
    "head(repfirehom)"
   ]
  },
  {
   "cell_type": "code",
   "execution_count": 30,
   "metadata": {},
   "outputs": [],
   "source": [
    "################\n",
    "##  Figure 1B ##\n",
    "################\n",
    "\n",
    "library(dplyr)\n",
    "library(ggplot2)\n",
    "library(tidyr)\n",
    "repfirehom <- subset(alldata, Cause==\"FirearmHomicide\" & Year < 2015)\n",
    "\n",
    "# Setup variables\n",
    "repfirehom$Level <- c(rep(0,81),rep(1,111),rep(0,81),rep(1,111))\n",
    "repfirehom$TXtime <- repfirehom$Treatment * repfirehom$Time\n",
    "repfirehom$TXlevel <- repfirehom$Treatment * repfirehom$Level\n",
    "repfirehom$TXtrend <- repfirehom$Treatment * repfirehom$Trend\n",
    "\n",
    "# Models\n",
    "repfirehom_crappy <- glm(Deaths ~ offset(log(StdPop)) + Time + Level + harmonic(MonthNo,2,12), \n",
    "                         family=quasipoisson, data=repfirehom)\n",
    "repfirehom.mod <- with(repfirehom, Deaths/StdPop)\n",
    "repfirehom.datanew <- data.frame(StdPop=mean(repfirehom$StdPop),\n",
    "                                 Level=rep(c(0,1), c(819,1101)),\n",
    "                                 Time = 1:1920/10,\n",
    "                                 MonthNo = rep(1:120/10, 16))\n",
    "repfirehom.pred1 <- predict(repfirehom_crappy,type=\"response\",repfirehom.datanew)/mean(repfirehom$StdPop)\n",
    "repfirehom.pred2 <- predict(repfirehom_crappy,type=\"response\",transform(repfirehom.datanew,MonthNo=4.8))/mean(repfirehom$StdPop)\n",
    "\n",
    "repfirehom_linear <- glm(Deaths ~ offset(log(StdPop)) + Time + Treatment + Level +  \n",
    "                           TXtime + TXlevel, \n",
    "                         family=quasipoisson, data=repfirehom)\n",
    "repfirehom_harmonic <- glm(Deaths ~ offset(log(StdPop)) + Time + Treatment + Level + \n",
    "                             TXtime + TXlevel + harmonic(MonthNo,2,12), \n",
    "                           family=quasipoisson, data=repfirehom)\n"
   ]
  },
  {
   "cell_type": "code",
   "execution_count": 39,
   "metadata": {},
   "outputs": [
    {
     "ename": "ERROR",
     "evalue": "Error in dimnames(x) <- dn: length of 'dimnames' [2] not equal to array extent\n",
     "output_type": "error",
     "traceback": [
      "Error in dimnames(x) <- dn: length of 'dimnames' [2] not equal to array extent\nTraceback:\n",
      "1. `colnames<-`(`*tmp*`, value = c(\"MonYear\", \"Year\", \"MonthNo\", \n . \"Deaths\", \"Treatment\", \"Effective\", \"Pop\", \"StdPop\", \"Time\", \n . \"Trend\", \"OrigData\", \"Cause\", \"Data.Table\", \"Characteristic\"))"
     ]
    }
   ],
   "source": [
    "################\n",
    "##  Figure 1A ##\n",
    "################\n",
    "\n",
    "repallhom <- subset(alldata, Cause==\"AllHomicide\" & Year < 2015)\n",
    "\n",
    "##Sept 2001 was removed from the analysis but is added back in to graph\n",
    "allhomtop<-repallhom[1:224,]\n",
    "allhomtbottom <- repallhom[225:383,]\n",
    "\n",
    "##Spet 2001 was given the mean monthly count and rate in the before period \n",
    "Sept2001 <- cbind(\"Sept.,2001\", 2001,9,189.4, 0,0,46161275, 461.6128,30,0,1,\"AllHomicide\",\"Table1\",\"All\",.41)\n",
    "colnames(Sept2001)<- colnames(repallhom)\n",
    "allhomtop <- rbind(allhomtop, Sept2001)\n",
    "repallhom <- rbind(allhomtop,allhomtbottom)\n",
    "repallhom <- transform(repallhom, StdPop = as.numeric(StdPop), Deaths = as.numeric(Deaths), Year = as.numeric(Year),\n",
    "                       Treatment = as.numeric(Treatment), Pop = as.numeric(Pop), Time = as.numeric(Time), \n",
    "                       Trend = as.numeric(Trend), Rate = as.numeric(Rate), MonthNo = as.numeric(MonthNo))\n",
    "# Setup variables\n",
    "repallhom$Level <- c(rep(0,81),rep(1,111),rep(0,81),rep(1,111))\n",
    "repallhom$Time <- c(rep(c(1:192), 2))\n",
    "repallhom$Trend <- rep(c(rep(0,81), 1:111),2)\n",
    "repallhom$TXtime <- repallhom$Treatment * repallhom$Time\n",
    "repallhom$TXlevel <- repallhom$Treatment * repallhom$Level\n",
    "repallhom$TXtrend <- repallhom$Treatment * repallhom$Trend\n",
    "repallhom_crappy <- glm(Rate ~ offset(log(StdPop)) + Time + Level + harmonic(MonthNo,2,12), \n",
    "                        family=quasipoisson, data=repallhom)\n",
    "repallhom.mod <- with(repallhom, Deaths/StdPop)\n",
    "repallhom.datanew <- data.frame(StdPop=mean(repallhom$StdPop),\n",
    "                                Level=rep(c(0,1), c(819,1101)),\n",
    "                                Time = 1:1920/10,\n",
    "                                MonthNo = rep(1:120/10, 16))\n",
    "\n",
    "# Models\n",
    "repallhom.pred1 <- predict(repallhom_crappy,type=\"response\",repallhom.datanew)/mean(repallhom$StdPop)\n",
    "repallhom.pred2 <- predict(repallhom_crappy,type=\"response\",transform(repallhom,MonthNo=4.8))/mean(repallhom$StdPop)\n",
    "\n",
    "repallhom_linear <- glm(Rate ~ offset(log(StdPop)) + Time + Treatment + Level +  \n",
    "                          TXtime + TXlevel, \n",
    "                        family=quasipoisson, data=repallhom)\n",
    "repallhom_harmonic <- glm(Rate ~ offset(log(StdPop)) + Time + Treatment + Level + \n",
    "                            TXtime + TXlevel + harmonic(MonthNo,2,12), \n",
    "                          family=quasipoisson, data=repallhom)\n",
    "###Plot for replication all homicide \n",
    "plot(repfirehom$Time[1:192],repfirehom.mod[1:192],\n",
    "     type=\"n\",\n",
    "     ylim=c(0,1),\n",
    "     frame.plot=F,\n",
    "     ylab=\"Deaths per 100,000\",\n",
    "     xlab=\"Year\",\n",
    "     xaxt=\"n\",\n",
    "     las=2)\n",
    "axis(1,at=0:15*12+6,tick=T,labels=1999:2014) \n",
    "rect(81,0,192,1, col=grey(0.9),border=F)\n",
    "points(repallhom$Time[1:192],repallhom.mod[1:192],\n",
    "       col=\"darkorange2\",\n",
    "       pch=20)\n",
    "points(repallhom$Time[193:384],repallhom.mod[193:384],\n",
    "       col=\"dodgerblue4\",\n",
    "       pch=20)\n",
    "lines(repallhom$Time[1:81], fitted(repallhom_linear)[1:81], col=\"darkorange\",lty=5)\n",
    "lines(repallhom$Time[1:81], fitted(repallhom_harmonic)[1:81], col=\"darkorange\",lwd=2)\n",
    "lines(repallhom$Time[82:192], fitted(repallhom_linear)[82:192], col=\"darkorange\",lty=5)\n",
    "lines(repallhom$Time[82:192], fitted(repallhom_harmonic)[82:192], col=\"darkorange\",lwd=2)\n",
    "lines(repallhom$Time[193:273], fitted(repallhom_linear)[193:273], col=\"dodgerblue4\",lty=5)\n",
    "lines(repallhom$Time[193:273], fitted(repallhom_harmonic)[193:273], col=\"dodgerblue4\",lwd=2)\n",
    "lines(repallhom$Time[274:384], fitted(repallhom_linear)[274:384], col=\"dodgerblue4\",lty=5)\n",
    "lines(repallhom$Time[274:384], fitted(repallhom_harmonic)[274:384], col=\"dodgerblue4\",lwd=2)\n",
    "legend(x=0, y=0.9, legend=c(\"Florida\",\"Comparison States\"), col=c(\"darkorange\",\"dodgerblue4\"),lwd = 2)\n",
    "title(main=\"Replication: Homicide Rates \\nFlorida and Comparison States 1999-2014\")"
   ]
  },
  {
   "cell_type": "code",
   "execution_count": 40,
   "metadata": {},
   "outputs": [
    {
     "data": {
      "text/html": [
       "<table>\n",
       "<thead><tr><th></th><th scope=col>MonYear</th><th scope=col>Year</th><th scope=col>MonthNo</th><th scope=col>Deaths</th><th scope=col>Treatment</th><th scope=col>Effective</th><th scope=col>Pop</th><th scope=col>StdPop</th><th scope=col>Time</th><th scope=col>Trend</th><th scope=col>OrigData</th><th scope=col>Cause</th><th scope=col>Data.Table</th><th scope=col>Characteristic</th></tr></thead>\n",
       "<tbody>\n",
       "\t<tr><th scope=row>1297</th><td>Jan., 1999 </td><td>1999       </td><td> 1         </td><td>75         </td><td>1          </td><td>0          </td><td>15759421   </td><td>157.5942   </td><td> 1         </td><td>0          </td><td>1          </td><td>AllHomicide</td><td>Table1     </td><td>All        </td></tr>\n",
       "\t<tr><th scope=row>1298</th><td>Feb., 1999 </td><td>1999       </td><td> 2         </td><td>80         </td><td>1          </td><td>0          </td><td>15759421   </td><td>157.5942   </td><td> 2         </td><td>0          </td><td>1          </td><td>AllHomicide</td><td>Table1     </td><td>All        </td></tr>\n",
       "\t<tr><th scope=row>1299</th><td>Mar., 1999 </td><td>1999       </td><td> 3         </td><td>84         </td><td>1          </td><td>0          </td><td>15759421   </td><td>157.5942   </td><td> 3         </td><td>0          </td><td>1          </td><td>AllHomicide</td><td>Table1     </td><td>All        </td></tr>\n",
       "\t<tr><th scope=row>1300</th><td>Apr., 1999 </td><td>1999       </td><td> 4         </td><td>67         </td><td>1          </td><td>0          </td><td>15759421   </td><td>157.5942   </td><td> 4         </td><td>0          </td><td>1          </td><td>AllHomicide</td><td>Table1     </td><td>All        </td></tr>\n",
       "\t<tr><th scope=row>1301</th><td>May, 1999  </td><td>1999       </td><td> 5         </td><td>84         </td><td>1          </td><td>0          </td><td>15759421   </td><td>157.5942   </td><td> 5         </td><td>0          </td><td>1          </td><td>AllHomicide</td><td>Table1     </td><td>All        </td></tr>\n",
       "\t<tr><th scope=row>1302</th><td>Jun., 1999 </td><td>1999       </td><td> 6         </td><td>81         </td><td>1          </td><td>0          </td><td>15759421   </td><td>157.5942   </td><td> 6         </td><td>0          </td><td>1          </td><td>AllHomicide</td><td>Table1     </td><td>All        </td></tr>\n",
       "\t<tr><th scope=row>1303</th><td>Jul., 1999 </td><td>1999       </td><td> 7         </td><td>95         </td><td>1          </td><td>0          </td><td>15759421   </td><td>157.5942   </td><td> 7         </td><td>0          </td><td>1          </td><td>AllHomicide</td><td>Table1     </td><td>All        </td></tr>\n",
       "\t<tr><th scope=row>1304</th><td>Aug., 1999 </td><td>1999       </td><td> 8         </td><td>59         </td><td>1          </td><td>0          </td><td>15759421   </td><td>157.5942   </td><td> 8         </td><td>0          </td><td>1          </td><td>AllHomicide</td><td>Table1     </td><td>All        </td></tr>\n",
       "\t<tr><th scope=row>1305</th><td>Sep., 1999 </td><td>1999       </td><td> 9         </td><td>78         </td><td>1          </td><td>0          </td><td>15759421   </td><td>157.5942   </td><td> 9         </td><td>0          </td><td>1          </td><td>AllHomicide</td><td>Table1     </td><td>All        </td></tr>\n",
       "\t<tr><th scope=row>1306</th><td>Oct., 1999 </td><td>1999       </td><td>10         </td><td>93         </td><td>1          </td><td>0          </td><td>15759421   </td><td>157.5942   </td><td>10         </td><td>0          </td><td>1          </td><td>AllHomicide</td><td>Table1     </td><td>All        </td></tr>\n",
       "\t<tr><th scope=row>1307</th><td>Nov., 1999 </td><td>1999       </td><td>11         </td><td>69         </td><td>1          </td><td>0          </td><td>15759421   </td><td>157.5942   </td><td>11         </td><td>0          </td><td>1          </td><td>AllHomicide</td><td>Table1     </td><td>All        </td></tr>\n",
       "\t<tr><th scope=row>1308</th><td>Dec., 1999 </td><td>1999       </td><td>12         </td><td>99         </td><td>1          </td><td>0          </td><td>15759421   </td><td>157.5942   </td><td>12         </td><td>0          </td><td>1          </td><td>AllHomicide</td><td>Table1     </td><td>All        </td></tr>\n",
       "\t<tr><th scope=row>1309</th><td>Jan., 2000 </td><td>2000       </td><td> 1         </td><td>92         </td><td>1          </td><td>0          </td><td>16047515   </td><td>160.4752   </td><td>13         </td><td>0          </td><td>1          </td><td>AllHomicide</td><td>Table1     </td><td>All        </td></tr>\n",
       "\t<tr><th scope=row>1310</th><td>Feb., 2000 </td><td>2000       </td><td> 2         </td><td>74         </td><td>1          </td><td>0          </td><td>16047515   </td><td>160.4752   </td><td>14         </td><td>0          </td><td>1          </td><td>AllHomicide</td><td>Table1     </td><td>All        </td></tr>\n",
       "\t<tr><th scope=row>1311</th><td>Mar., 2000 </td><td>2000       </td><td> 3         </td><td>72         </td><td>1          </td><td>0          </td><td>16047515   </td><td>160.4752   </td><td>15         </td><td>0          </td><td>1          </td><td>AllHomicide</td><td>Table1     </td><td>All        </td></tr>\n",
       "\t<tr><th scope=row>1312</th><td>Apr., 2000 </td><td>2000       </td><td> 4         </td><td>77         </td><td>1          </td><td>0          </td><td>16047515   </td><td>160.4752   </td><td>16         </td><td>0          </td><td>1          </td><td>AllHomicide</td><td>Table1     </td><td>All        </td></tr>\n",
       "\t<tr><th scope=row>1313</th><td>May, 2000  </td><td>2000       </td><td> 5         </td><td>92         </td><td>1          </td><td>0          </td><td>16047515   </td><td>160.4752   </td><td>17         </td><td>0          </td><td>1          </td><td>AllHomicide</td><td>Table1     </td><td>All        </td></tr>\n",
       "\t<tr><th scope=row>1314</th><td>Jun., 2000 </td><td>2000       </td><td> 6         </td><td>70         </td><td>1          </td><td>0          </td><td>16047515   </td><td>160.4752   </td><td>18         </td><td>0          </td><td>1          </td><td>AllHomicide</td><td>Table1     </td><td>All        </td></tr>\n",
       "\t<tr><th scope=row>1315</th><td>Jul., 2000 </td><td>2000       </td><td> 7         </td><td>84         </td><td>1          </td><td>0          </td><td>16047515   </td><td>160.4752   </td><td>19         </td><td>0          </td><td>1          </td><td>AllHomicide</td><td>Table1     </td><td>All        </td></tr>\n",
       "\t<tr><th scope=row>1316</th><td>Aug., 2000 </td><td>2000       </td><td> 8         </td><td>79         </td><td>1          </td><td>0          </td><td>16047515   </td><td>160.4752   </td><td>20         </td><td>0          </td><td>1          </td><td>AllHomicide</td><td>Table1     </td><td>All        </td></tr>\n",
       "\t<tr><th scope=row>1317</th><td>Sep., 2000 </td><td>2000       </td><td> 9         </td><td>69         </td><td>1          </td><td>0          </td><td>16047515   </td><td>160.4752   </td><td>21         </td><td>0          </td><td>1          </td><td>AllHomicide</td><td>Table1     </td><td>All        </td></tr>\n",
       "\t<tr><th scope=row>1318</th><td>Oct., 2000 </td><td>2000       </td><td>10         </td><td>74         </td><td>1          </td><td>0          </td><td>16047515   </td><td>160.4752   </td><td>22         </td><td>0          </td><td>1          </td><td>AllHomicide</td><td>Table1     </td><td>All        </td></tr>\n",
       "\t<tr><th scope=row>1319</th><td>Nov., 2000 </td><td>2000       </td><td>11         </td><td>71         </td><td>1          </td><td>0          </td><td>16047515   </td><td>160.4752   </td><td>23         </td><td>0          </td><td>1          </td><td>AllHomicide</td><td>Table1     </td><td>All        </td></tr>\n",
       "\t<tr><th scope=row>1320</th><td>Dec., 2000 </td><td>2000       </td><td>12         </td><td>83         </td><td>1          </td><td>0          </td><td>16047515   </td><td>160.4752   </td><td>24         </td><td>0          </td><td>1          </td><td>AllHomicide</td><td>Table1     </td><td>All        </td></tr>\n",
       "\t<tr><th scope=row>1321</th><td>Jan., 2001 </td><td>2001       </td><td> 1         </td><td>87         </td><td>1          </td><td>0          </td><td>16356966   </td><td>163.5697   </td><td>25         </td><td>0          </td><td>1          </td><td>AllHomicide</td><td>Table1     </td><td>All        </td></tr>\n",
       "\t<tr><th scope=row>1322</th><td>Feb., 2001 </td><td>2001       </td><td> 2         </td><td>72         </td><td>1          </td><td>0          </td><td>16356966   </td><td>163.5697   </td><td>26         </td><td>0          </td><td>1          </td><td>AllHomicide</td><td>Table1     </td><td>All        </td></tr>\n",
       "\t<tr><th scope=row>1323</th><td>Mar., 2001 </td><td>2001       </td><td> 3         </td><td>73         </td><td>1          </td><td>0          </td><td>16356966   </td><td>163.5697   </td><td>27         </td><td>0          </td><td>1          </td><td>AllHomicide</td><td>Table1     </td><td>All        </td></tr>\n",
       "\t<tr><th scope=row>1324</th><td>Apr., 2001 </td><td>2001       </td><td> 4         </td><td>78         </td><td>1          </td><td>0          </td><td>16356966   </td><td>163.5697   </td><td>28         </td><td>0          </td><td>1          </td><td>AllHomicide</td><td>Table1     </td><td>All        </td></tr>\n",
       "\t<tr><th scope=row>1325</th><td>May, 2001  </td><td>2001       </td><td> 5         </td><td>81         </td><td>1          </td><td>0          </td><td>16356966   </td><td>163.5697   </td><td>29         </td><td>0          </td><td>1          </td><td>AllHomicide</td><td>Table1     </td><td>All        </td></tr>\n",
       "\t<tr><th scope=row>1326</th><td>Jun., 2001 </td><td>2001       </td><td> 6         </td><td>77         </td><td>1          </td><td>0          </td><td>16356966   </td><td>163.5697   </td><td>30         </td><td>0          </td><td>1          </td><td>AllHomicide</td><td>Table1     </td><td>All        </td></tr>\n",
       "\t<tr><th scope=row>...</th><td>...</td><td>...</td><td>...</td><td>...</td><td>...</td><td>...</td><td>...</td><td>...</td><td>...</td><td>...</td><td>...</td><td>...</td><td>...</td><td>...</td></tr>\n",
       "\t<tr><th scope=row>1674</th><td>Jul., 2012 </td><td>2012       </td><td> 7         </td><td>236        </td><td>0          </td><td>1          </td><td>48243129   </td><td>482.4313   </td><td>161        </td><td> 82        </td><td>1          </td><td>AllHomicide</td><td>Table1     </td><td>All        </td></tr>\n",
       "\t<tr><th scope=row>1675</th><td>Aug., 2012 </td><td>2012       </td><td> 8         </td><td>179        </td><td>0          </td><td>1          </td><td>48243129   </td><td>482.4313   </td><td>162        </td><td> 83        </td><td>1          </td><td>AllHomicide</td><td>Table1     </td><td>All        </td></tr>\n",
       "\t<tr><th scope=row>1676</th><td>Sep., 2012 </td><td>2012       </td><td> 9         </td><td>184        </td><td>0          </td><td>1          </td><td>48243129   </td><td>482.4313   </td><td>163        </td><td> 84        </td><td>1          </td><td>AllHomicide</td><td>Table1     </td><td>All        </td></tr>\n",
       "\t<tr><th scope=row>1677</th><td>Oct., 2012 </td><td>2012       </td><td>10         </td><td>172        </td><td>0          </td><td>1          </td><td>48243129   </td><td>482.4313   </td><td>164        </td><td> 85        </td><td>1          </td><td>AllHomicide</td><td>Table1     </td><td>All        </td></tr>\n",
       "\t<tr><th scope=row>1678</th><td>Nov., 2012 </td><td>2012       </td><td>11         </td><td>188        </td><td>0          </td><td>1          </td><td>48243129   </td><td>482.4313   </td><td>165        </td><td> 86        </td><td>1          </td><td>AllHomicide</td><td>Table1     </td><td>All        </td></tr>\n",
       "\t<tr><th scope=row>1679</th><td>Dec., 2012 </td><td>2012       </td><td>12         </td><td>180        </td><td>0          </td><td>1          </td><td>48243129   </td><td>482.4313   </td><td>166        </td><td> 87        </td><td>1          </td><td>AllHomicide</td><td>Table1     </td><td>All        </td></tr>\n",
       "\t<tr><th scope=row>1680</th><td>Jan., 2013 </td><td>2013       </td><td> 1         </td><td>167        </td><td>0          </td><td>1          </td><td>48455783   </td><td>484.5578   </td><td>167        </td><td> 88        </td><td>1          </td><td>AllHomicide</td><td>Table1     </td><td>All        </td></tr>\n",
       "\t<tr><th scope=row>1681</th><td>Feb., 2013 </td><td>2013       </td><td> 2         </td><td>138        </td><td>0          </td><td>1          </td><td>48455783   </td><td>484.5578   </td><td>168        </td><td> 89        </td><td>1          </td><td>AllHomicide</td><td>Table1     </td><td>All        </td></tr>\n",
       "\t<tr><th scope=row>1682</th><td>Mar., 2013 </td><td>2013       </td><td> 3         </td><td>147        </td><td>0          </td><td>1          </td><td>48455783   </td><td>484.5578   </td><td>169        </td><td> 90        </td><td>1          </td><td>AllHomicide</td><td>Table1     </td><td>All        </td></tr>\n",
       "\t<tr><th scope=row>1683</th><td>Apr., 2013 </td><td>2013       </td><td> 4         </td><td>152        </td><td>0          </td><td>1          </td><td>48455783   </td><td>484.5578   </td><td>170        </td><td> 91        </td><td>1          </td><td>AllHomicide</td><td>Table1     </td><td>All        </td></tr>\n",
       "\t<tr><th scope=row>1684</th><td>May, 2013  </td><td>2013       </td><td> 5         </td><td>200        </td><td>0          </td><td>1          </td><td>48455783   </td><td>484.5578   </td><td>171        </td><td> 92        </td><td>1          </td><td>AllHomicide</td><td>Table1     </td><td>All        </td></tr>\n",
       "\t<tr><th scope=row>1685</th><td>Jun., 2013 </td><td>2013       </td><td> 6         </td><td>168        </td><td>0          </td><td>1          </td><td>48455783   </td><td>484.5578   </td><td>172        </td><td> 93        </td><td>1          </td><td>AllHomicide</td><td>Table1     </td><td>All        </td></tr>\n",
       "\t<tr><th scope=row>1686</th><td>Jul., 2013 </td><td>2013       </td><td> 7         </td><td>197        </td><td>0          </td><td>1          </td><td>48455783   </td><td>484.5578   </td><td>173        </td><td> 94        </td><td>1          </td><td>AllHomicide</td><td>Table1     </td><td>All        </td></tr>\n",
       "\t<tr><th scope=row>1687</th><td>Aug., 2013 </td><td>2013       </td><td> 8         </td><td>199        </td><td>0          </td><td>1          </td><td>48455783   </td><td>484.5578   </td><td>174        </td><td> 95        </td><td>1          </td><td>AllHomicide</td><td>Table1     </td><td>All        </td></tr>\n",
       "\t<tr><th scope=row>1688</th><td>Sep., 2013 </td><td>2013       </td><td> 9         </td><td>166        </td><td>0          </td><td>1          </td><td>48455783   </td><td>484.5578   </td><td>175        </td><td> 96        </td><td>1          </td><td>AllHomicide</td><td>Table1     </td><td>All        </td></tr>\n",
       "\t<tr><th scope=row>1689</th><td>Oct., 2013 </td><td>2013       </td><td>10         </td><td>187        </td><td>0          </td><td>1          </td><td>48455783   </td><td>484.5578   </td><td>176        </td><td> 97        </td><td>1          </td><td>AllHomicide</td><td>Table1     </td><td>All        </td></tr>\n",
       "\t<tr><th scope=row>1690</th><td>Nov., 2013 </td><td>2013       </td><td>11         </td><td>164        </td><td>0          </td><td>1          </td><td>48455783   </td><td>484.5578   </td><td>177        </td><td> 98        </td><td>1          </td><td>AllHomicide</td><td>Table1     </td><td>All        </td></tr>\n",
       "\t<tr><th scope=row>1691</th><td>Dec., 2013 </td><td>2013       </td><td>12         </td><td>201        </td><td>0          </td><td>1          </td><td>48455783   </td><td>484.5578   </td><td>178        </td><td> 99        </td><td>1          </td><td>AllHomicide</td><td>Table1     </td><td>All        </td></tr>\n",
       "\t<tr><th scope=row>1692</th><td>Jan., 2014 </td><td>2014       </td><td> 1         </td><td>151        </td><td>0          </td><td>1          </td><td>48627233   </td><td>486.2723   </td><td>179        </td><td>100        </td><td>1          </td><td>AllHomicide</td><td>Table1     </td><td>All        </td></tr>\n",
       "\t<tr><th scope=row>1693</th><td>Feb., 2014 </td><td>2014       </td><td> 2         </td><td>123        </td><td>0          </td><td>1          </td><td>48627233   </td><td>486.2723   </td><td>180        </td><td>101        </td><td>1          </td><td>AllHomicide</td><td>Table1     </td><td>All        </td></tr>\n",
       "\t<tr><th scope=row>1694</th><td>Mar., 2014 </td><td>2014       </td><td> 3         </td><td>143        </td><td>0          </td><td>1          </td><td>48627233   </td><td>486.2723   </td><td>181        </td><td>102        </td><td>1          </td><td>AllHomicide</td><td>Table1     </td><td>All        </td></tr>\n",
       "\t<tr><th scope=row>1695</th><td>Apr., 2014 </td><td>2014       </td><td> 4         </td><td>146        </td><td>0          </td><td>1          </td><td>48627233   </td><td>486.2723   </td><td>182        </td><td>103        </td><td>1          </td><td>AllHomicide</td><td>Table1     </td><td>All        </td></tr>\n",
       "\t<tr><th scope=row>1696</th><td>May, 2014  </td><td>2014       </td><td> 5         </td><td>174        </td><td>0          </td><td>1          </td><td>48627233   </td><td>486.2723   </td><td>183        </td><td>104        </td><td>1          </td><td>AllHomicide</td><td>Table1     </td><td>All        </td></tr>\n",
       "\t<tr><th scope=row>1697</th><td>Jun., 2014 </td><td>2014       </td><td> 6         </td><td>193        </td><td>0          </td><td>1          </td><td>48627233   </td><td>486.2723   </td><td>184        </td><td>105        </td><td>1          </td><td>AllHomicide</td><td>Table1     </td><td>All        </td></tr>\n",
       "\t<tr><th scope=row>1698</th><td>Jul., 2014 </td><td>2014       </td><td> 7         </td><td>167        </td><td>0          </td><td>1          </td><td>48627233   </td><td>486.2723   </td><td>185        </td><td>106        </td><td>1          </td><td>AllHomicide</td><td>Table1     </td><td>All        </td></tr>\n",
       "\t<tr><th scope=row>1699</th><td>Aug., 2014 </td><td>2014       </td><td> 8         </td><td>164        </td><td>0          </td><td>1          </td><td>48627233   </td><td>486.2723   </td><td>186        </td><td>107        </td><td>1          </td><td>AllHomicide</td><td>Table1     </td><td>All        </td></tr>\n",
       "\t<tr><th scope=row>1700</th><td>Sep., 2014 </td><td>2014       </td><td> 9         </td><td>166        </td><td>0          </td><td>1          </td><td>48627233   </td><td>486.2723   </td><td>187        </td><td>108        </td><td>1          </td><td>AllHomicide</td><td>Table1     </td><td>All        </td></tr>\n",
       "\t<tr><th scope=row>1701</th><td>Oct., 2014 </td><td>2014       </td><td>10         </td><td>183        </td><td>0          </td><td>1          </td><td>48627233   </td><td>486.2723   </td><td>188        </td><td>109        </td><td>1          </td><td>AllHomicide</td><td>Table1     </td><td>All        </td></tr>\n",
       "\t<tr><th scope=row>1702</th><td>Nov., 2014 </td><td>2014       </td><td>11         </td><td>178        </td><td>0          </td><td>1          </td><td>48627233   </td><td>486.2723   </td><td>189        </td><td>110        </td><td>1          </td><td>AllHomicide</td><td>Table1     </td><td>All        </td></tr>\n",
       "\t<tr><th scope=row>1703</th><td>Dec., 2014 </td><td>2014       </td><td>12         </td><td>163        </td><td>0          </td><td>1          </td><td>48627233   </td><td>486.2723   </td><td>190        </td><td>111        </td><td>1          </td><td>AllHomicide</td><td>Table1     </td><td>All        </td></tr>\n",
       "</tbody>\n",
       "</table>\n"
      ],
      "text/latex": [
       "\\begin{tabular}{r|llllllllllllll}\n",
       "  & MonYear & Year & MonthNo & Deaths & Treatment & Effective & Pop & StdPop & Time & Trend & OrigData & Cause & Data.Table & Characteristic\\\\\n",
       "\\hline\n",
       "\t1297 & Jan., 1999  & 1999        &  1          & 75          & 1           & 0           & 15759421    & 157.5942    &  1          & 0           & 1           & AllHomicide & Table1      & All        \\\\\n",
       "\t1298 & Feb., 1999  & 1999        &  2          & 80          & 1           & 0           & 15759421    & 157.5942    &  2          & 0           & 1           & AllHomicide & Table1      & All        \\\\\n",
       "\t1299 & Mar., 1999  & 1999        &  3          & 84          & 1           & 0           & 15759421    & 157.5942    &  3          & 0           & 1           & AllHomicide & Table1      & All        \\\\\n",
       "\t1300 & Apr., 1999  & 1999        &  4          & 67          & 1           & 0           & 15759421    & 157.5942    &  4          & 0           & 1           & AllHomicide & Table1      & All        \\\\\n",
       "\t1301 & May, 1999   & 1999        &  5          & 84          & 1           & 0           & 15759421    & 157.5942    &  5          & 0           & 1           & AllHomicide & Table1      & All        \\\\\n",
       "\t1302 & Jun., 1999  & 1999        &  6          & 81          & 1           & 0           & 15759421    & 157.5942    &  6          & 0           & 1           & AllHomicide & Table1      & All        \\\\\n",
       "\t1303 & Jul., 1999  & 1999        &  7          & 95          & 1           & 0           & 15759421    & 157.5942    &  7          & 0           & 1           & AllHomicide & Table1      & All        \\\\\n",
       "\t1304 & Aug., 1999  & 1999        &  8          & 59          & 1           & 0           & 15759421    & 157.5942    &  8          & 0           & 1           & AllHomicide & Table1      & All        \\\\\n",
       "\t1305 & Sep., 1999  & 1999        &  9          & 78          & 1           & 0           & 15759421    & 157.5942    &  9          & 0           & 1           & AllHomicide & Table1      & All        \\\\\n",
       "\t1306 & Oct., 1999  & 1999        & 10          & 93          & 1           & 0           & 15759421    & 157.5942    & 10          & 0           & 1           & AllHomicide & Table1      & All        \\\\\n",
       "\t1307 & Nov., 1999  & 1999        & 11          & 69          & 1           & 0           & 15759421    & 157.5942    & 11          & 0           & 1           & AllHomicide & Table1      & All        \\\\\n",
       "\t1308 & Dec., 1999  & 1999        & 12          & 99          & 1           & 0           & 15759421    & 157.5942    & 12          & 0           & 1           & AllHomicide & Table1      & All        \\\\\n",
       "\t1309 & Jan., 2000  & 2000        &  1          & 92          & 1           & 0           & 16047515    & 160.4752    & 13          & 0           & 1           & AllHomicide & Table1      & All        \\\\\n",
       "\t1310 & Feb., 2000  & 2000        &  2          & 74          & 1           & 0           & 16047515    & 160.4752    & 14          & 0           & 1           & AllHomicide & Table1      & All        \\\\\n",
       "\t1311 & Mar., 2000  & 2000        &  3          & 72          & 1           & 0           & 16047515    & 160.4752    & 15          & 0           & 1           & AllHomicide & Table1      & All        \\\\\n",
       "\t1312 & Apr., 2000  & 2000        &  4          & 77          & 1           & 0           & 16047515    & 160.4752    & 16          & 0           & 1           & AllHomicide & Table1      & All        \\\\\n",
       "\t1313 & May, 2000   & 2000        &  5          & 92          & 1           & 0           & 16047515    & 160.4752    & 17          & 0           & 1           & AllHomicide & Table1      & All        \\\\\n",
       "\t1314 & Jun., 2000  & 2000        &  6          & 70          & 1           & 0           & 16047515    & 160.4752    & 18          & 0           & 1           & AllHomicide & Table1      & All        \\\\\n",
       "\t1315 & Jul., 2000  & 2000        &  7          & 84          & 1           & 0           & 16047515    & 160.4752    & 19          & 0           & 1           & AllHomicide & Table1      & All        \\\\\n",
       "\t1316 & Aug., 2000  & 2000        &  8          & 79          & 1           & 0           & 16047515    & 160.4752    & 20          & 0           & 1           & AllHomicide & Table1      & All        \\\\\n",
       "\t1317 & Sep., 2000  & 2000        &  9          & 69          & 1           & 0           & 16047515    & 160.4752    & 21          & 0           & 1           & AllHomicide & Table1      & All        \\\\\n",
       "\t1318 & Oct., 2000  & 2000        & 10          & 74          & 1           & 0           & 16047515    & 160.4752    & 22          & 0           & 1           & AllHomicide & Table1      & All        \\\\\n",
       "\t1319 & Nov., 2000  & 2000        & 11          & 71          & 1           & 0           & 16047515    & 160.4752    & 23          & 0           & 1           & AllHomicide & Table1      & All        \\\\\n",
       "\t1320 & Dec., 2000  & 2000        & 12          & 83          & 1           & 0           & 16047515    & 160.4752    & 24          & 0           & 1           & AllHomicide & Table1      & All        \\\\\n",
       "\t1321 & Jan., 2001  & 2001        &  1          & 87          & 1           & 0           & 16356966    & 163.5697    & 25          & 0           & 1           & AllHomicide & Table1      & All        \\\\\n",
       "\t1322 & Feb., 2001  & 2001        &  2          & 72          & 1           & 0           & 16356966    & 163.5697    & 26          & 0           & 1           & AllHomicide & Table1      & All        \\\\\n",
       "\t1323 & Mar., 2001  & 2001        &  3          & 73          & 1           & 0           & 16356966    & 163.5697    & 27          & 0           & 1           & AllHomicide & Table1      & All        \\\\\n",
       "\t1324 & Apr., 2001  & 2001        &  4          & 78          & 1           & 0           & 16356966    & 163.5697    & 28          & 0           & 1           & AllHomicide & Table1      & All        \\\\\n",
       "\t1325 & May, 2001   & 2001        &  5          & 81          & 1           & 0           & 16356966    & 163.5697    & 29          & 0           & 1           & AllHomicide & Table1      & All        \\\\\n",
       "\t1326 & Jun., 2001  & 2001        &  6          & 77          & 1           & 0           & 16356966    & 163.5697    & 30          & 0           & 1           & AllHomicide & Table1      & All        \\\\\n",
       "\t... & ... & ... & ... & ... & ... & ... & ... & ... & ... & ... & ... & ... & ... & ...\\\\\n",
       "\t1674 & Jul., 2012  & 2012        &  7          & 236         & 0           & 1           & 48243129    & 482.4313    & 161         &  82         & 1           & AllHomicide & Table1      & All        \\\\\n",
       "\t1675 & Aug., 2012  & 2012        &  8          & 179         & 0           & 1           & 48243129    & 482.4313    & 162         &  83         & 1           & AllHomicide & Table1      & All        \\\\\n",
       "\t1676 & Sep., 2012  & 2012        &  9          & 184         & 0           & 1           & 48243129    & 482.4313    & 163         &  84         & 1           & AllHomicide & Table1      & All        \\\\\n",
       "\t1677 & Oct., 2012  & 2012        & 10          & 172         & 0           & 1           & 48243129    & 482.4313    & 164         &  85         & 1           & AllHomicide & Table1      & All        \\\\\n",
       "\t1678 & Nov., 2012  & 2012        & 11          & 188         & 0           & 1           & 48243129    & 482.4313    & 165         &  86         & 1           & AllHomicide & Table1      & All        \\\\\n",
       "\t1679 & Dec., 2012  & 2012        & 12          & 180         & 0           & 1           & 48243129    & 482.4313    & 166         &  87         & 1           & AllHomicide & Table1      & All        \\\\\n",
       "\t1680 & Jan., 2013  & 2013        &  1          & 167         & 0           & 1           & 48455783    & 484.5578    & 167         &  88         & 1           & AllHomicide & Table1      & All        \\\\\n",
       "\t1681 & Feb., 2013  & 2013        &  2          & 138         & 0           & 1           & 48455783    & 484.5578    & 168         &  89         & 1           & AllHomicide & Table1      & All        \\\\\n",
       "\t1682 & Mar., 2013  & 2013        &  3          & 147         & 0           & 1           & 48455783    & 484.5578    & 169         &  90         & 1           & AllHomicide & Table1      & All        \\\\\n",
       "\t1683 & Apr., 2013  & 2013        &  4          & 152         & 0           & 1           & 48455783    & 484.5578    & 170         &  91         & 1           & AllHomicide & Table1      & All        \\\\\n",
       "\t1684 & May, 2013   & 2013        &  5          & 200         & 0           & 1           & 48455783    & 484.5578    & 171         &  92         & 1           & AllHomicide & Table1      & All        \\\\\n",
       "\t1685 & Jun., 2013  & 2013        &  6          & 168         & 0           & 1           & 48455783    & 484.5578    & 172         &  93         & 1           & AllHomicide & Table1      & All        \\\\\n",
       "\t1686 & Jul., 2013  & 2013        &  7          & 197         & 0           & 1           & 48455783    & 484.5578    & 173         &  94         & 1           & AllHomicide & Table1      & All        \\\\\n",
       "\t1687 & Aug., 2013  & 2013        &  8          & 199         & 0           & 1           & 48455783    & 484.5578    & 174         &  95         & 1           & AllHomicide & Table1      & All        \\\\\n",
       "\t1688 & Sep., 2013  & 2013        &  9          & 166         & 0           & 1           & 48455783    & 484.5578    & 175         &  96         & 1           & AllHomicide & Table1      & All        \\\\\n",
       "\t1689 & Oct., 2013  & 2013        & 10          & 187         & 0           & 1           & 48455783    & 484.5578    & 176         &  97         & 1           & AllHomicide & Table1      & All        \\\\\n",
       "\t1690 & Nov., 2013  & 2013        & 11          & 164         & 0           & 1           & 48455783    & 484.5578    & 177         &  98         & 1           & AllHomicide & Table1      & All        \\\\\n",
       "\t1691 & Dec., 2013  & 2013        & 12          & 201         & 0           & 1           & 48455783    & 484.5578    & 178         &  99         & 1           & AllHomicide & Table1      & All        \\\\\n",
       "\t1692 & Jan., 2014  & 2014        &  1          & 151         & 0           & 1           & 48627233    & 486.2723    & 179         & 100         & 1           & AllHomicide & Table1      & All        \\\\\n",
       "\t1693 & Feb., 2014  & 2014        &  2          & 123         & 0           & 1           & 48627233    & 486.2723    & 180         & 101         & 1           & AllHomicide & Table1      & All        \\\\\n",
       "\t1694 & Mar., 2014  & 2014        &  3          & 143         & 0           & 1           & 48627233    & 486.2723    & 181         & 102         & 1           & AllHomicide & Table1      & All        \\\\\n",
       "\t1695 & Apr., 2014  & 2014        &  4          & 146         & 0           & 1           & 48627233    & 486.2723    & 182         & 103         & 1           & AllHomicide & Table1      & All        \\\\\n",
       "\t1696 & May, 2014   & 2014        &  5          & 174         & 0           & 1           & 48627233    & 486.2723    & 183         & 104         & 1           & AllHomicide & Table1      & All        \\\\\n",
       "\t1697 & Jun., 2014  & 2014        &  6          & 193         & 0           & 1           & 48627233    & 486.2723    & 184         & 105         & 1           & AllHomicide & Table1      & All        \\\\\n",
       "\t1698 & Jul., 2014  & 2014        &  7          & 167         & 0           & 1           & 48627233    & 486.2723    & 185         & 106         & 1           & AllHomicide & Table1      & All        \\\\\n",
       "\t1699 & Aug., 2014  & 2014        &  8          & 164         & 0           & 1           & 48627233    & 486.2723    & 186         & 107         & 1           & AllHomicide & Table1      & All        \\\\\n",
       "\t1700 & Sep., 2014  & 2014        &  9          & 166         & 0           & 1           & 48627233    & 486.2723    & 187         & 108         & 1           & AllHomicide & Table1      & All        \\\\\n",
       "\t1701 & Oct., 2014  & 2014        & 10          & 183         & 0           & 1           & 48627233    & 486.2723    & 188         & 109         & 1           & AllHomicide & Table1      & All        \\\\\n",
       "\t1702 & Nov., 2014  & 2014        & 11          & 178         & 0           & 1           & 48627233    & 486.2723    & 189         & 110         & 1           & AllHomicide & Table1      & All        \\\\\n",
       "\t1703 & Dec., 2014  & 2014        & 12          & 163         & 0           & 1           & 48627233    & 486.2723    & 190         & 111         & 1           & AllHomicide & Table1      & All        \\\\\n",
       "\\end{tabular}\n"
      ],
      "text/markdown": [
       "\n",
       "| <!--/--> | MonYear | Year | MonthNo | Deaths | Treatment | Effective | Pop | StdPop | Time | Trend | OrigData | Cause | Data.Table | Characteristic |\n",
       "|---|---|---|---|---|---|---|---|---|---|---|---|---|---|---|\n",
       "| 1297 | Jan., 1999  | 1999        |  1          | 75          | 1           | 0           | 15759421    | 157.5942    |  1          | 0           | 1           | AllHomicide | Table1      | All         |\n",
       "| 1298 | Feb., 1999  | 1999        |  2          | 80          | 1           | 0           | 15759421    | 157.5942    |  2          | 0           | 1           | AllHomicide | Table1      | All         |\n",
       "| 1299 | Mar., 1999  | 1999        |  3          | 84          | 1           | 0           | 15759421    | 157.5942    |  3          | 0           | 1           | AllHomicide | Table1      | All         |\n",
       "| 1300 | Apr., 1999  | 1999        |  4          | 67          | 1           | 0           | 15759421    | 157.5942    |  4          | 0           | 1           | AllHomicide | Table1      | All         |\n",
       "| 1301 | May, 1999   | 1999        |  5          | 84          | 1           | 0           | 15759421    | 157.5942    |  5          | 0           | 1           | AllHomicide | Table1      | All         |\n",
       "| 1302 | Jun., 1999  | 1999        |  6          | 81          | 1           | 0           | 15759421    | 157.5942    |  6          | 0           | 1           | AllHomicide | Table1      | All         |\n",
       "| 1303 | Jul., 1999  | 1999        |  7          | 95          | 1           | 0           | 15759421    | 157.5942    |  7          | 0           | 1           | AllHomicide | Table1      | All         |\n",
       "| 1304 | Aug., 1999  | 1999        |  8          | 59          | 1           | 0           | 15759421    | 157.5942    |  8          | 0           | 1           | AllHomicide | Table1      | All         |\n",
       "| 1305 | Sep., 1999  | 1999        |  9          | 78          | 1           | 0           | 15759421    | 157.5942    |  9          | 0           | 1           | AllHomicide | Table1      | All         |\n",
       "| 1306 | Oct., 1999  | 1999        | 10          | 93          | 1           | 0           | 15759421    | 157.5942    | 10          | 0           | 1           | AllHomicide | Table1      | All         |\n",
       "| 1307 | Nov., 1999  | 1999        | 11          | 69          | 1           | 0           | 15759421    | 157.5942    | 11          | 0           | 1           | AllHomicide | Table1      | All         |\n",
       "| 1308 | Dec., 1999  | 1999        | 12          | 99          | 1           | 0           | 15759421    | 157.5942    | 12          | 0           | 1           | AllHomicide | Table1      | All         |\n",
       "| 1309 | Jan., 2000  | 2000        |  1          | 92          | 1           | 0           | 16047515    | 160.4752    | 13          | 0           | 1           | AllHomicide | Table1      | All         |\n",
       "| 1310 | Feb., 2000  | 2000        |  2          | 74          | 1           | 0           | 16047515    | 160.4752    | 14          | 0           | 1           | AllHomicide | Table1      | All         |\n",
       "| 1311 | Mar., 2000  | 2000        |  3          | 72          | 1           | 0           | 16047515    | 160.4752    | 15          | 0           | 1           | AllHomicide | Table1      | All         |\n",
       "| 1312 | Apr., 2000  | 2000        |  4          | 77          | 1           | 0           | 16047515    | 160.4752    | 16          | 0           | 1           | AllHomicide | Table1      | All         |\n",
       "| 1313 | May, 2000   | 2000        |  5          | 92          | 1           | 0           | 16047515    | 160.4752    | 17          | 0           | 1           | AllHomicide | Table1      | All         |\n",
       "| 1314 | Jun., 2000  | 2000        |  6          | 70          | 1           | 0           | 16047515    | 160.4752    | 18          | 0           | 1           | AllHomicide | Table1      | All         |\n",
       "| 1315 | Jul., 2000  | 2000        |  7          | 84          | 1           | 0           | 16047515    | 160.4752    | 19          | 0           | 1           | AllHomicide | Table1      | All         |\n",
       "| 1316 | Aug., 2000  | 2000        |  8          | 79          | 1           | 0           | 16047515    | 160.4752    | 20          | 0           | 1           | AllHomicide | Table1      | All         |\n",
       "| 1317 | Sep., 2000  | 2000        |  9          | 69          | 1           | 0           | 16047515    | 160.4752    | 21          | 0           | 1           | AllHomicide | Table1      | All         |\n",
       "| 1318 | Oct., 2000  | 2000        | 10          | 74          | 1           | 0           | 16047515    | 160.4752    | 22          | 0           | 1           | AllHomicide | Table1      | All         |\n",
       "| 1319 | Nov., 2000  | 2000        | 11          | 71          | 1           | 0           | 16047515    | 160.4752    | 23          | 0           | 1           | AllHomicide | Table1      | All         |\n",
       "| 1320 | Dec., 2000  | 2000        | 12          | 83          | 1           | 0           | 16047515    | 160.4752    | 24          | 0           | 1           | AllHomicide | Table1      | All         |\n",
       "| 1321 | Jan., 2001  | 2001        |  1          | 87          | 1           | 0           | 16356966    | 163.5697    | 25          | 0           | 1           | AllHomicide | Table1      | All         |\n",
       "| 1322 | Feb., 2001  | 2001        |  2          | 72          | 1           | 0           | 16356966    | 163.5697    | 26          | 0           | 1           | AllHomicide | Table1      | All         |\n",
       "| 1323 | Mar., 2001  | 2001        |  3          | 73          | 1           | 0           | 16356966    | 163.5697    | 27          | 0           | 1           | AllHomicide | Table1      | All         |\n",
       "| 1324 | Apr., 2001  | 2001        |  4          | 78          | 1           | 0           | 16356966    | 163.5697    | 28          | 0           | 1           | AllHomicide | Table1      | All         |\n",
       "| 1325 | May, 2001   | 2001        |  5          | 81          | 1           | 0           | 16356966    | 163.5697    | 29          | 0           | 1           | AllHomicide | Table1      | All         |\n",
       "| 1326 | Jun., 2001  | 2001        |  6          | 77          | 1           | 0           | 16356966    | 163.5697    | 30          | 0           | 1           | AllHomicide | Table1      | All         |\n",
       "| ... | ... | ... | ... | ... | ... | ... | ... | ... | ... | ... | ... | ... | ... | ... |\n",
       "| 1674 | Jul., 2012  | 2012        |  7          | 236         | 0           | 1           | 48243129    | 482.4313    | 161         |  82         | 1           | AllHomicide | Table1      | All         |\n",
       "| 1675 | Aug., 2012  | 2012        |  8          | 179         | 0           | 1           | 48243129    | 482.4313    | 162         |  83         | 1           | AllHomicide | Table1      | All         |\n",
       "| 1676 | Sep., 2012  | 2012        |  9          | 184         | 0           | 1           | 48243129    | 482.4313    | 163         |  84         | 1           | AllHomicide | Table1      | All         |\n",
       "| 1677 | Oct., 2012  | 2012        | 10          | 172         | 0           | 1           | 48243129    | 482.4313    | 164         |  85         | 1           | AllHomicide | Table1      | All         |\n",
       "| 1678 | Nov., 2012  | 2012        | 11          | 188         | 0           | 1           | 48243129    | 482.4313    | 165         |  86         | 1           | AllHomicide | Table1      | All         |\n",
       "| 1679 | Dec., 2012  | 2012        | 12          | 180         | 0           | 1           | 48243129    | 482.4313    | 166         |  87         | 1           | AllHomicide | Table1      | All         |\n",
       "| 1680 | Jan., 2013  | 2013        |  1          | 167         | 0           | 1           | 48455783    | 484.5578    | 167         |  88         | 1           | AllHomicide | Table1      | All         |\n",
       "| 1681 | Feb., 2013  | 2013        |  2          | 138         | 0           | 1           | 48455783    | 484.5578    | 168         |  89         | 1           | AllHomicide | Table1      | All         |\n",
       "| 1682 | Mar., 2013  | 2013        |  3          | 147         | 0           | 1           | 48455783    | 484.5578    | 169         |  90         | 1           | AllHomicide | Table1      | All         |\n",
       "| 1683 | Apr., 2013  | 2013        |  4          | 152         | 0           | 1           | 48455783    | 484.5578    | 170         |  91         | 1           | AllHomicide | Table1      | All         |\n",
       "| 1684 | May, 2013   | 2013        |  5          | 200         | 0           | 1           | 48455783    | 484.5578    | 171         |  92         | 1           | AllHomicide | Table1      | All         |\n",
       "| 1685 | Jun., 2013  | 2013        |  6          | 168         | 0           | 1           | 48455783    | 484.5578    | 172         |  93         | 1           | AllHomicide | Table1      | All         |\n",
       "| 1686 | Jul., 2013  | 2013        |  7          | 197         | 0           | 1           | 48455783    | 484.5578    | 173         |  94         | 1           | AllHomicide | Table1      | All         |\n",
       "| 1687 | Aug., 2013  | 2013        |  8          | 199         | 0           | 1           | 48455783    | 484.5578    | 174         |  95         | 1           | AllHomicide | Table1      | All         |\n",
       "| 1688 | Sep., 2013  | 2013        |  9          | 166         | 0           | 1           | 48455783    | 484.5578    | 175         |  96         | 1           | AllHomicide | Table1      | All         |\n",
       "| 1689 | Oct., 2013  | 2013        | 10          | 187         | 0           | 1           | 48455783    | 484.5578    | 176         |  97         | 1           | AllHomicide | Table1      | All         |\n",
       "| 1690 | Nov., 2013  | 2013        | 11          | 164         | 0           | 1           | 48455783    | 484.5578    | 177         |  98         | 1           | AllHomicide | Table1      | All         |\n",
       "| 1691 | Dec., 2013  | 2013        | 12          | 201         | 0           | 1           | 48455783    | 484.5578    | 178         |  99         | 1           | AllHomicide | Table1      | All         |\n",
       "| 1692 | Jan., 2014  | 2014        |  1          | 151         | 0           | 1           | 48627233    | 486.2723    | 179         | 100         | 1           | AllHomicide | Table1      | All         |\n",
       "| 1693 | Feb., 2014  | 2014        |  2          | 123         | 0           | 1           | 48627233    | 486.2723    | 180         | 101         | 1           | AllHomicide | Table1      | All         |\n",
       "| 1694 | Mar., 2014  | 2014        |  3          | 143         | 0           | 1           | 48627233    | 486.2723    | 181         | 102         | 1           | AllHomicide | Table1      | All         |\n",
       "| 1695 | Apr., 2014  | 2014        |  4          | 146         | 0           | 1           | 48627233    | 486.2723    | 182         | 103         | 1           | AllHomicide | Table1      | All         |\n",
       "| 1696 | May, 2014   | 2014        |  5          | 174         | 0           | 1           | 48627233    | 486.2723    | 183         | 104         | 1           | AllHomicide | Table1      | All         |\n",
       "| 1697 | Jun., 2014  | 2014        |  6          | 193         | 0           | 1           | 48627233    | 486.2723    | 184         | 105         | 1           | AllHomicide | Table1      | All         |\n",
       "| 1698 | Jul., 2014  | 2014        |  7          | 167         | 0           | 1           | 48627233    | 486.2723    | 185         | 106         | 1           | AllHomicide | Table1      | All         |\n",
       "| 1699 | Aug., 2014  | 2014        |  8          | 164         | 0           | 1           | 48627233    | 486.2723    | 186         | 107         | 1           | AllHomicide | Table1      | All         |\n",
       "| 1700 | Sep., 2014  | 2014        |  9          | 166         | 0           | 1           | 48627233    | 486.2723    | 187         | 108         | 1           | AllHomicide | Table1      | All         |\n",
       "| 1701 | Oct., 2014  | 2014        | 10          | 183         | 0           | 1           | 48627233    | 486.2723    | 188         | 109         | 1           | AllHomicide | Table1      | All         |\n",
       "| 1702 | Nov., 2014  | 2014        | 11          | 178         | 0           | 1           | 48627233    | 486.2723    | 189         | 110         | 1           | AllHomicide | Table1      | All         |\n",
       "| 1703 | Dec., 2014  | 2014        | 12          | 163         | 0           | 1           | 48627233    | 486.2723    | 190         | 111         | 1           | AllHomicide | Table1      | All         |\n",
       "\n"
      ],
      "text/plain": [
       "     MonYear    Year MonthNo Deaths Treatment Effective Pop      StdPop   Time\n",
       "1297 Jan., 1999 1999  1      75     1         0         15759421 157.5942  1  \n",
       "1298 Feb., 1999 1999  2      80     1         0         15759421 157.5942  2  \n",
       "1299 Mar., 1999 1999  3      84     1         0         15759421 157.5942  3  \n",
       "1300 Apr., 1999 1999  4      67     1         0         15759421 157.5942  4  \n",
       "1301 May, 1999  1999  5      84     1         0         15759421 157.5942  5  \n",
       "1302 Jun., 1999 1999  6      81     1         0         15759421 157.5942  6  \n",
       "1303 Jul., 1999 1999  7      95     1         0         15759421 157.5942  7  \n",
       "1304 Aug., 1999 1999  8      59     1         0         15759421 157.5942  8  \n",
       "1305 Sep., 1999 1999  9      78     1         0         15759421 157.5942  9  \n",
       "1306 Oct., 1999 1999 10      93     1         0         15759421 157.5942 10  \n",
       "1307 Nov., 1999 1999 11      69     1         0         15759421 157.5942 11  \n",
       "1308 Dec., 1999 1999 12      99     1         0         15759421 157.5942 12  \n",
       "1309 Jan., 2000 2000  1      92     1         0         16047515 160.4752 13  \n",
       "1310 Feb., 2000 2000  2      74     1         0         16047515 160.4752 14  \n",
       "1311 Mar., 2000 2000  3      72     1         0         16047515 160.4752 15  \n",
       "1312 Apr., 2000 2000  4      77     1         0         16047515 160.4752 16  \n",
       "1313 May, 2000  2000  5      92     1         0         16047515 160.4752 17  \n",
       "1314 Jun., 2000 2000  6      70     1         0         16047515 160.4752 18  \n",
       "1315 Jul., 2000 2000  7      84     1         0         16047515 160.4752 19  \n",
       "1316 Aug., 2000 2000  8      79     1         0         16047515 160.4752 20  \n",
       "1317 Sep., 2000 2000  9      69     1         0         16047515 160.4752 21  \n",
       "1318 Oct., 2000 2000 10      74     1         0         16047515 160.4752 22  \n",
       "1319 Nov., 2000 2000 11      71     1         0         16047515 160.4752 23  \n",
       "1320 Dec., 2000 2000 12      83     1         0         16047515 160.4752 24  \n",
       "1321 Jan., 2001 2001  1      87     1         0         16356966 163.5697 25  \n",
       "1322 Feb., 2001 2001  2      72     1         0         16356966 163.5697 26  \n",
       "1323 Mar., 2001 2001  3      73     1         0         16356966 163.5697 27  \n",
       "1324 Apr., 2001 2001  4      78     1         0         16356966 163.5697 28  \n",
       "1325 May, 2001  2001  5      81     1         0         16356966 163.5697 29  \n",
       "1326 Jun., 2001 2001  6      77     1         0         16356966 163.5697 30  \n",
       "...  ...        ...  ...     ...    ...       ...       ...      ...      ... \n",
       "1674 Jul., 2012 2012  7      236    0         1         48243129 482.4313 161 \n",
       "1675 Aug., 2012 2012  8      179    0         1         48243129 482.4313 162 \n",
       "1676 Sep., 2012 2012  9      184    0         1         48243129 482.4313 163 \n",
       "1677 Oct., 2012 2012 10      172    0         1         48243129 482.4313 164 \n",
       "1678 Nov., 2012 2012 11      188    0         1         48243129 482.4313 165 \n",
       "1679 Dec., 2012 2012 12      180    0         1         48243129 482.4313 166 \n",
       "1680 Jan., 2013 2013  1      167    0         1         48455783 484.5578 167 \n",
       "1681 Feb., 2013 2013  2      138    0         1         48455783 484.5578 168 \n",
       "1682 Mar., 2013 2013  3      147    0         1         48455783 484.5578 169 \n",
       "1683 Apr., 2013 2013  4      152    0         1         48455783 484.5578 170 \n",
       "1684 May, 2013  2013  5      200    0         1         48455783 484.5578 171 \n",
       "1685 Jun., 2013 2013  6      168    0         1         48455783 484.5578 172 \n",
       "1686 Jul., 2013 2013  7      197    0         1         48455783 484.5578 173 \n",
       "1687 Aug., 2013 2013  8      199    0         1         48455783 484.5578 174 \n",
       "1688 Sep., 2013 2013  9      166    0         1         48455783 484.5578 175 \n",
       "1689 Oct., 2013 2013 10      187    0         1         48455783 484.5578 176 \n",
       "1690 Nov., 2013 2013 11      164    0         1         48455783 484.5578 177 \n",
       "1691 Dec., 2013 2013 12      201    0         1         48455783 484.5578 178 \n",
       "1692 Jan., 2014 2014  1      151    0         1         48627233 486.2723 179 \n",
       "1693 Feb., 2014 2014  2      123    0         1         48627233 486.2723 180 \n",
       "1694 Mar., 2014 2014  3      143    0         1         48627233 486.2723 181 \n",
       "1695 Apr., 2014 2014  4      146    0         1         48627233 486.2723 182 \n",
       "1696 May, 2014  2014  5      174    0         1         48627233 486.2723 183 \n",
       "1697 Jun., 2014 2014  6      193    0         1         48627233 486.2723 184 \n",
       "1698 Jul., 2014 2014  7      167    0         1         48627233 486.2723 185 \n",
       "1699 Aug., 2014 2014  8      164    0         1         48627233 486.2723 186 \n",
       "1700 Sep., 2014 2014  9      166    0         1         48627233 486.2723 187 \n",
       "1701 Oct., 2014 2014 10      183    0         1         48627233 486.2723 188 \n",
       "1702 Nov., 2014 2014 11      178    0         1         48627233 486.2723 189 \n",
       "1703 Dec., 2014 2014 12      163    0         1         48627233 486.2723 190 \n",
       "     Trend OrigData Cause       Data.Table Characteristic\n",
       "1297 0     1        AllHomicide Table1     All           \n",
       "1298 0     1        AllHomicide Table1     All           \n",
       "1299 0     1        AllHomicide Table1     All           \n",
       "1300 0     1        AllHomicide Table1     All           \n",
       "1301 0     1        AllHomicide Table1     All           \n",
       "1302 0     1        AllHomicide Table1     All           \n",
       "1303 0     1        AllHomicide Table1     All           \n",
       "1304 0     1        AllHomicide Table1     All           \n",
       "1305 0     1        AllHomicide Table1     All           \n",
       "1306 0     1        AllHomicide Table1     All           \n",
       "1307 0     1        AllHomicide Table1     All           \n",
       "1308 0     1        AllHomicide Table1     All           \n",
       "1309 0     1        AllHomicide Table1     All           \n",
       "1310 0     1        AllHomicide Table1     All           \n",
       "1311 0     1        AllHomicide Table1     All           \n",
       "1312 0     1        AllHomicide Table1     All           \n",
       "1313 0     1        AllHomicide Table1     All           \n",
       "1314 0     1        AllHomicide Table1     All           \n",
       "1315 0     1        AllHomicide Table1     All           \n",
       "1316 0     1        AllHomicide Table1     All           \n",
       "1317 0     1        AllHomicide Table1     All           \n",
       "1318 0     1        AllHomicide Table1     All           \n",
       "1319 0     1        AllHomicide Table1     All           \n",
       "1320 0     1        AllHomicide Table1     All           \n",
       "1321 0     1        AllHomicide Table1     All           \n",
       "1322 0     1        AllHomicide Table1     All           \n",
       "1323 0     1        AllHomicide Table1     All           \n",
       "1324 0     1        AllHomicide Table1     All           \n",
       "1325 0     1        AllHomicide Table1     All           \n",
       "1326 0     1        AllHomicide Table1     All           \n",
       "...  ...   ...      ...         ...        ...           \n",
       "1674  82   1        AllHomicide Table1     All           \n",
       "1675  83   1        AllHomicide Table1     All           \n",
       "1676  84   1        AllHomicide Table1     All           \n",
       "1677  85   1        AllHomicide Table1     All           \n",
       "1678  86   1        AllHomicide Table1     All           \n",
       "1679  87   1        AllHomicide Table1     All           \n",
       "1680  88   1        AllHomicide Table1     All           \n",
       "1681  89   1        AllHomicide Table1     All           \n",
       "1682  90   1        AllHomicide Table1     All           \n",
       "1683  91   1        AllHomicide Table1     All           \n",
       "1684  92   1        AllHomicide Table1     All           \n",
       "1685  93   1        AllHomicide Table1     All           \n",
       "1686  94   1        AllHomicide Table1     All           \n",
       "1687  95   1        AllHomicide Table1     All           \n",
       "1688  96   1        AllHomicide Table1     All           \n",
       "1689  97   1        AllHomicide Table1     All           \n",
       "1690  98   1        AllHomicide Table1     All           \n",
       "1691  99   1        AllHomicide Table1     All           \n",
       "1692 100   1        AllHomicide Table1     All           \n",
       "1693 101   1        AllHomicide Table1     All           \n",
       "1694 102   1        AllHomicide Table1     All           \n",
       "1695 103   1        AllHomicide Table1     All           \n",
       "1696 104   1        AllHomicide Table1     All           \n",
       "1697 105   1        AllHomicide Table1     All           \n",
       "1698 106   1        AllHomicide Table1     All           \n",
       "1699 107   1        AllHomicide Table1     All           \n",
       "1700 108   1        AllHomicide Table1     All           \n",
       "1701 109   1        AllHomicide Table1     All           \n",
       "1702 110   1        AllHomicide Table1     All           \n",
       "1703 111   1        AllHomicide Table1     All           "
      ]
     },
     "metadata": {},
     "output_type": "display_data"
    }
   ],
   "source": [
    "repallhom"
   ]
  },
  {
   "cell_type": "code",
   "execution_count": 41,
   "metadata": {},
   "outputs": [
    {
     "data": {
      "image/png": "[encoded data removed]",
      "text/plain": [
       "Plot with title \"Replication: Firearm Homicide Rates \n",
       " Florida and Comparison States 1999-2014\""
      ]
     },
     "metadata": {},
     "output_type": "display_data"
    }
   ],
   "source": [
    "# Replication Plot for replication firearm homicide \n",
    "plot(repfirehom$Time[1:192],repfirehom.mod[1:192],\n",
    "     type=\"n\",\n",
    "     ylim=c(0,1),\n",
    "     frame.plot=F,\n",
    "     ylab=\"Deaths per 100,000\",\n",
    "     xlab=\"Year\",\n",
    "     xaxt=\"n\",\n",
    "     las=2)\n",
    "axis(1,at=0:15*12+6,tick=T,labels=1999:2014) \n",
    "rect(81,0,192,1, col=grey(0.9),border=F)\n",
    "points(repfirehom$Time[1:192],repfirehom.mod[1:192],\n",
    "       col=\"darkorange2\",\n",
    "       pch=20)\n",
    "points(repfirehom$Time[193:384],repfirehom.mod[193:384],\n",
    "       col=\"dodgerblue4\",\n",
    "       pch=20)\n",
    "lines(repfirehom$Time[1:81], fitted(repfirehom_linear)[1:81], col=\"darkorange\",lty=5)\n",
    "lines(repfirehom$Time[1:81], fitted(repfirehom_harmonic)[1:81], col=\"darkorange\",lwd=2)\n",
    "lines(repfirehom$Time[82:192], fitted(repfirehom_linear)[82:192], col=\"darkorange\",lty=5)\n",
    "lines(repfirehom$Time[82:192], fitted(repfirehom_harmonic)[82:192], col=\"darkorange\",lwd=2)\n",
    "lines(repfirehom$Time[193:273], fitted(repfirehom_linear)[193:273], col=\"dodgerblue4\",lty=5)\n",
    "lines(repfirehom$Time[193:273], fitted(repfirehom_harmonic)[193:273], col=\"dodgerblue4\",lwd=2)\n",
    "lines(repfirehom$Time[274:384], fitted(repfirehom_linear)[274:384], col=\"dodgerblue4\",lty=5)\n",
    "lines(repfirehom$Time[274:384], fitted(repfirehom_harmonic)[274:384], col=\"dodgerblue4\",lwd=2)\n",
    "legend(x=0, y=0.9, legend=c(\"Florida\",\"Comparison States\"), col=c(\"darkorange\",\"dodgerblue4\"),lwd = 2)\n",
    "title(main=\"Replication: Firearm Homicide Rates \\n Florida and Comparison States 1999-2014\")"
   ]
  },
  {
   "cell_type": "code",
   "execution_count": 64,
   "metadata": {},
   "outputs": [
    {
     "data": {
      "image/png": "[encoded data removed]",
      "text/plain": [
       "Plot with title \"Extension: All Firearm Related Deaths, \n",
       " Florida and Comparison States 1999-2016\""
      ]
     },
     "metadata": {},
     "output_type": "display_data"
    }
   ],
   "source": [
    "repcombo <- subset(alldata, Cause==\"Combo\")\n",
    "\n",
    "# Setup variables\n",
    "repcombo$Level <- c(rep(0,81),rep(1,135),rep(0,81),rep(1,135))\n",
    "repcombo$TXtime <- repcombo$Treatment * repcombo$Time\n",
    "repcombo$TXlevel <- repcombo$Treatment * repcombo$Level\n",
    "repcombo$TXtrend <- repcombo$Treatment * repcombo$Trend\n",
    "\n",
    "# Model\n",
    "repcombo_linear <- glm(Deaths ~ offset(log(StdPop)) + Time + Treatment + Level + Trend + \n",
    "                         TXtime + TXlevel + TXtrend, \n",
    "                       family=quasipoisson, data=repcombo)\n",
    "repcombo_harmonic <- glm(Deaths ~ offset(log(StdPop)) + Time + Treatment + Level + Trend + \n",
    "                           TXtime + TXlevel + TXtrend + harmonic(MonthNo,2,12), \n",
    "                         family=quasipoisson, data=repcombo) \n",
    "\n",
    "repcombo.mod <- with(repcombo, Deaths/StdPop)\n",
    "repcombo.datanew <- data.frame(StdPop=repcombo$StdPop,Level=repcombo$Level, Times = repcombo$Time/10, MonthNo = repcombo$MonthNo/10)\n",
    "\n",
    "repcombo.pred1 <- predict(repcombo_linear,type=\"response\",repcombo)/repcombo$StdPop\n",
    "repcombo.pred2 <- predict(repcombo_linear,type=\"response\",transform(repcombo,MonthNo=4.8))/(repcombo$StdPop)\n",
    "###Plot for combo extension \n",
    "plot(repcombo$Time[1:216],repcombo.mod[1:216],\n",
    "     type=\"n\",\n",
    "     ylim=c(0,1),\n",
    "     frame.plot=F,\n",
    "     ylab=\"Deaths per 100,000\",\n",
    "     xlab=\"Year\",\n",
    "     xaxt=\"n\",\n",
    "     las=2)\n",
    "axis(1,at=0:17*13+12,tick=T,labels=1999:2016) \n",
    "rect(31,0,216,1, col=grey(0.9),border=F)\n",
    "points(repcombo$Time[1:216],repcombo.mod[1:216],\n",
    "       col=\"darkorange2\",\n",
    "       pch=20)\n",
    "points(repcombo$Time[217:432],repcombo.mod[217:432],\n",
    "       col=\"dodgerblue4\",\n",
    "       pch=20)\n",
    "lines(repcombo$Time[1:81], fitted(repcombo_linear)[1:81], col=\"darkorange\",lty=5)\n",
    "lines(repcombo$Time[1:81], fitted(repcombo_harmonic)[1:81], col=\"darkorange\",lwd=2)\n",
    "lines(repcombo$Time[82:216], fitted(repcombo_linear)[82:216], col=\"darkorange\",lty=5)\n",
    "lines(repcombo$Time[82:216], fitted(repcombo_harmonic)[82:216], col=\"darkorange\",lwd=2)\n",
    "lines(repcombo$Time[217:297], fitted(repcombo_linear)[217:297], col=\"dodgerblue4\",lty=5)\n",
    "lines(repcombo$Time[217:297], fitted(repcombo_harmonic)[217:297], col=\"dodgerblue4\",lwd=2)\n",
    "lines(repcombo$Time[298:432], fitted(repcombo_linear)[298:432], col=\"dodgerblue4\",lty=5)\n",
    "lines(repcombo$Time[298:432], fitted(repcombo_harmonic)[298:432], col=\"dodgerblue4\",lwd=2)\n",
    "legend(x=0, y=0.9, legend=c(\"Florida\",\"Comparison States\"), col=c(\"darkorange\",\"dodgerblue4\"),lwd = 2)\n",
    "title(main=\"Extension: All Firearm Related Deaths, \\n Florida and Comparison States 1999-2016\")\n"
   ]
  },
  {
   "cell_type": "code",
   "execution_count": 52,
   "metadata": {},
   "outputs": [
    {
     "data": {
      "image/png": "[encoded data removed]",
      "text/plain": [
       "Plot with title \"Replication: Firearm Homicide Rates \n",
       " Florida and Comparison States 1999-2014\""
      ]
     },
     "metadata": {},
     "output_type": "display_data"
    }
   ],
   "source": [
    "# Replication Plot for replication firearm homicide \n",
    "plot(repfirehom$Time[1:192],repfirehom.mod[1:192],\n",
    "     type=\"n\",\n",
    "     ylim=c(0,1),\n",
    "     frame.plot=F,\n",
    "     ylab=\"Deaths per 100,000\",\n",
    "     xlab=\"Year\",\n",
    "     xaxt=\"n\",\n",
    "     las=2)\n",
    "axis(1,at=0:15*12+12,tick=T,labels=1999:2014) \n",
    "rect(91,0,192,2, col=grey(0.9),border=F)\n",
    "points(repfirehom$Time[1:192],repfirehom.mod[1:192],\n",
    "       col=\"darkorange2\",\n",
    "       pch=20)\n",
    "points(repfirehom$Time[193:384],repfirehom.mod[193:384],\n",
    "       col=\"dodgerblue4\",\n",
    "       pch=20)\n",
    "\n",
    "legend(x=0, y=0.9, legend=c(\"Florida\",\"Comparison States\"), col=c(\"darkorange\",\"dodgerblue4\"),lwd = 2)\n",
    "title(main=\"Replication: Firearm Homicide Rates \\n Florida and Comparison States 1999-2014\")"
   ]
  },
  {
   "cell_type": "code",
   "execution_count": 53,
   "metadata": {},
   "outputs": [
    {
     "ename": "ERROR",
     "evalue": "Error in summary(hom.white$Deaths[repdata$After == 0]): object 'hom.white' not found\n",
     "output_type": "error",
     "traceback": [
      "Error in summary(hom.white$Deaths[repdata$After == 0]): object 'hom.white' not found\nTraceback:\n",
      "1. summary(hom.white$Deaths[repdata$After == 0])"
     ]
    }
   ],
   "source": [
    "# Homicide \n",
    "\n",
    "summary(hom.white$Deaths[repdata$After==0])\n",
    "summary(hom.white$Deaths[repdata$After==1])\n",
    "\n",
    "summary(hom.black$Deaths[repdata$After==0])\n",
    "summary(hom.black$Deaths[repdata$After==1])\n",
    "\n",
    "summary(hom.20_34$Deaths[repdata$After==0])\n",
    "summary(hom.20_34$Deaths[repdata$After==1])\n",
    "\n",
    "summary(hom.35over$Deaths[repdata$After==0])\n",
    "summary(hom.35over$Deaths[repdata$After==1])\n",
    "\n",
    "summary(hom.male$Deaths[repdata$After==0])\n",
    "summary(hom.male$Deaths[repdata$After==1])\n",
    "\n",
    "summary(hom.female$Deaths[repdata$After==0])\n",
    "summary(hom.female$Deaths[repdata$After==1])\n",
    "\n",
    "# Suicide\n",
    "\n",
    "summary(suic.white$Deaths[repdata$After==0])\n",
    "summary(suic.white$Deaths[repdata$After==1])\n",
    "\n",
    "summary(suic.20_34$Deaths[repdata$After==0])\n",
    "summary(suic.20_34$Deaths[repdata$After==1])\n",
    "\n",
    "summary(suic.35over$Deaths[repdata$After==0])\n",
    "summary(suic.35over$Deaths[repdata$After==1])\n",
    "\n",
    "summary(suic.male$Deaths[repdata$After==0])\n",
    "summary(suic.male$Deaths[repdata$After==1])\n",
    "\n",
    "summary(suic.female$Deaths[repdata$After==0])\n",
    "summary(suic.female$Deaths[repdata$After==1])\n"
   ]
  },
  {
   "cell_type": "code",
   "execution_count": null,
   "metadata": {},
   "outputs": [],
   "source": []
  }
 ],
 "metadata": {
  "kernelspec": {
   "display_name": "R",
   "language": "R",
   "name": "ir"
  },
  "language_info": {
   "codemirror_mode": "r",
   "file_extension": ".r",
   "mimetype": "text/x-r-source",
   "name": "R",
   "pygments_lexer": "r",
   "version": "3.6.1"
  }
 },
 "nbformat": 4,
 "nbformat_minor": 2
}
